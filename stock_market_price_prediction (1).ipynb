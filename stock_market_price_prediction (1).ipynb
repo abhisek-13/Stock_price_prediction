{
  "nbformat": 4,
  "nbformat_minor": 0,
  "metadata": {
    "colab": {
      "provenance": []
    },
    "kernelspec": {
      "name": "python3",
      "display_name": "Python 3"
    },
    "language_info": {
      "name": "python"
    }
  },
  "cells": [
    {
      "cell_type": "code",
      "source": [
        "key = 'b6acdd700eb4e92c842662a64de49cf5f29744a0'  # Tiingo API key"
      ],
      "metadata": {
        "id": "yGwNgAOngu_t"
      },
      "execution_count": null,
      "outputs": []
    },
    {
      "cell_type": "code",
      "execution_count": null,
      "metadata": {
        "colab": {
          "base_uri": "https://localhost:8080/"
        },
        "id": "Rus5dQNNdAOH",
        "outputId": "526517dd-4e5e-43bb-afcf-76e325e9291f"
      },
      "outputs": [
        {
          "output_type": "stream",
          "name": "stderr",
          "text": [
            "<ipython-input-2-b13fca6040e0>:4: FutureWarning: In a future version of pandas all arguments of concat except for the argument 'objs' will be keyword-only.\n",
            "  df = pdr.get_data_tiingo('AAPL',api_key = key)\n"
          ]
        }
      ],
      "source": [
        "# importing the data\n",
        "import pandas_datareader as pdr\n",
        "\n",
        "df = pdr.get_data_tiingo('AAPL',api_key = key)"
      ]
    },
    {
      "cell_type": "code",
      "source": [
        "# importing the dependencies\n",
        "import pandas as pd"
      ],
      "metadata": {
        "id": "1V08yah_hCYo"
      },
      "execution_count": null,
      "outputs": []
    },
    {
      "cell_type": "code",
      "source": [
        "df.to_csv('GOOGL.csv')"
      ],
      "metadata": {
        "id": "F_b_wm9ohNK-"
      },
      "execution_count": null,
      "outputs": []
    },
    {
      "cell_type": "code",
      "source": [
        "df = pd.read_csv('GOOGL.csv')"
      ],
      "metadata": {
        "id": "raLyiqrkhVa6"
      },
      "execution_count": null,
      "outputs": []
    },
    {
      "cell_type": "code",
      "source": [
        "df.head()"
      ],
      "metadata": {
        "colab": {
          "base_uri": "https://localhost:8080/",
          "height": 313
        },
        "id": "nBxVOimdhbZn",
        "outputId": "20e138e3-36ed-4251-d481-5765f186f549"
      },
      "execution_count": null,
      "outputs": [
        {
          "output_type": "execute_result",
          "data": {
            "text/plain": [
              "  symbol                       date   close    high     low    open    volume  \\\n",
              "0   AAPL  2018-10-22 00:00:00+00:00  220.65  223.36  218.94  219.79  28792082   \n",
              "1   AAPL  2018-10-23 00:00:00+00:00  222.73  223.25  214.70  215.83  38767846   \n",
              "2   AAPL  2018-10-24 00:00:00+00:00  215.09  224.23  214.54  222.60  40925163   \n",
              "3   AAPL  2018-10-25 00:00:00+00:00  219.80  221.38  216.75  217.71  29855768   \n",
              "4   AAPL  2018-10-26 00:00:00+00:00  216.30  220.19  212.67  215.90  47258375   \n",
              "\n",
              "    adjClose    adjHigh     adjLow    adjOpen  adjVolume  divCash  splitFactor  \n",
              "0  52.827106  53.475923  52.417705  52.621209  115168328      0.0          1.0  \n",
              "1  53.325091  53.449587  51.402582  51.673122  155071384      0.0          1.0  \n",
              "2  51.495954  53.684215  51.364275  53.293967  163700652      0.0          1.0  \n",
              "3  52.623603  53.001880  51.893384  52.123224  119423072      0.0          1.0  \n",
              "4  51.785647  52.716975  50.916568  51.689881  189033500      0.0          1.0  "
            ],
            "text/html": [
              "\n",
              "  <div id=\"df-e1120657-9ef7-4fcc-bf37-101bb0bd9c15\" class=\"colab-df-container\">\n",
              "    <div>\n",
              "<style scoped>\n",
              "    .dataframe tbody tr th:only-of-type {\n",
              "        vertical-align: middle;\n",
              "    }\n",
              "\n",
              "    .dataframe tbody tr th {\n",
              "        vertical-align: top;\n",
              "    }\n",
              "\n",
              "    .dataframe thead th {\n",
              "        text-align: right;\n",
              "    }\n",
              "</style>\n",
              "<table border=\"1\" class=\"dataframe\">\n",
              "  <thead>\n",
              "    <tr style=\"text-align: right;\">\n",
              "      <th></th>\n",
              "      <th>symbol</th>\n",
              "      <th>date</th>\n",
              "      <th>close</th>\n",
              "      <th>high</th>\n",
              "      <th>low</th>\n",
              "      <th>open</th>\n",
              "      <th>volume</th>\n",
              "      <th>adjClose</th>\n",
              "      <th>adjHigh</th>\n",
              "      <th>adjLow</th>\n",
              "      <th>adjOpen</th>\n",
              "      <th>adjVolume</th>\n",
              "      <th>divCash</th>\n",
              "      <th>splitFactor</th>\n",
              "    </tr>\n",
              "  </thead>\n",
              "  <tbody>\n",
              "    <tr>\n",
              "      <th>0</th>\n",
              "      <td>AAPL</td>\n",
              "      <td>2018-10-22 00:00:00+00:00</td>\n",
              "      <td>220.65</td>\n",
              "      <td>223.36</td>\n",
              "      <td>218.94</td>\n",
              "      <td>219.79</td>\n",
              "      <td>28792082</td>\n",
              "      <td>52.827106</td>\n",
              "      <td>53.475923</td>\n",
              "      <td>52.417705</td>\n",
              "      <td>52.621209</td>\n",
              "      <td>115168328</td>\n",
              "      <td>0.0</td>\n",
              "      <td>1.0</td>\n",
              "    </tr>\n",
              "    <tr>\n",
              "      <th>1</th>\n",
              "      <td>AAPL</td>\n",
              "      <td>2018-10-23 00:00:00+00:00</td>\n",
              "      <td>222.73</td>\n",
              "      <td>223.25</td>\n",
              "      <td>214.70</td>\n",
              "      <td>215.83</td>\n",
              "      <td>38767846</td>\n",
              "      <td>53.325091</td>\n",
              "      <td>53.449587</td>\n",
              "      <td>51.402582</td>\n",
              "      <td>51.673122</td>\n",
              "      <td>155071384</td>\n",
              "      <td>0.0</td>\n",
              "      <td>1.0</td>\n",
              "    </tr>\n",
              "    <tr>\n",
              "      <th>2</th>\n",
              "      <td>AAPL</td>\n",
              "      <td>2018-10-24 00:00:00+00:00</td>\n",
              "      <td>215.09</td>\n",
              "      <td>224.23</td>\n",
              "      <td>214.54</td>\n",
              "      <td>222.60</td>\n",
              "      <td>40925163</td>\n",
              "      <td>51.495954</td>\n",
              "      <td>53.684215</td>\n",
              "      <td>51.364275</td>\n",
              "      <td>53.293967</td>\n",
              "      <td>163700652</td>\n",
              "      <td>0.0</td>\n",
              "      <td>1.0</td>\n",
              "    </tr>\n",
              "    <tr>\n",
              "      <th>3</th>\n",
              "      <td>AAPL</td>\n",
              "      <td>2018-10-25 00:00:00+00:00</td>\n",
              "      <td>219.80</td>\n",
              "      <td>221.38</td>\n",
              "      <td>216.75</td>\n",
              "      <td>217.71</td>\n",
              "      <td>29855768</td>\n",
              "      <td>52.623603</td>\n",
              "      <td>53.001880</td>\n",
              "      <td>51.893384</td>\n",
              "      <td>52.123224</td>\n",
              "      <td>119423072</td>\n",
              "      <td>0.0</td>\n",
              "      <td>1.0</td>\n",
              "    </tr>\n",
              "    <tr>\n",
              "      <th>4</th>\n",
              "      <td>AAPL</td>\n",
              "      <td>2018-10-26 00:00:00+00:00</td>\n",
              "      <td>216.30</td>\n",
              "      <td>220.19</td>\n",
              "      <td>212.67</td>\n",
              "      <td>215.90</td>\n",
              "      <td>47258375</td>\n",
              "      <td>51.785647</td>\n",
              "      <td>52.716975</td>\n",
              "      <td>50.916568</td>\n",
              "      <td>51.689881</td>\n",
              "      <td>189033500</td>\n",
              "      <td>0.0</td>\n",
              "      <td>1.0</td>\n",
              "    </tr>\n",
              "  </tbody>\n",
              "</table>\n",
              "</div>\n",
              "    <div class=\"colab-df-buttons\">\n",
              "\n",
              "  <div class=\"colab-df-container\">\n",
              "    <button class=\"colab-df-convert\" onclick=\"convertToInteractive('df-e1120657-9ef7-4fcc-bf37-101bb0bd9c15')\"\n",
              "            title=\"Convert this dataframe to an interactive table.\"\n",
              "            style=\"display:none;\">\n",
              "\n",
              "  <svg xmlns=\"http://www.w3.org/2000/svg\" height=\"24px\" viewBox=\"0 -960 960 960\">\n",
              "    <path d=\"M120-120v-720h720v720H120Zm60-500h600v-160H180v160Zm220 220h160v-160H400v160Zm0 220h160v-160H400v160ZM180-400h160v-160H180v160Zm440 0h160v-160H620v160ZM180-180h160v-160H180v160Zm440 0h160v-160H620v160Z\"/>\n",
              "  </svg>\n",
              "    </button>\n",
              "\n",
              "  <style>\n",
              "    .colab-df-container {\n",
              "      display:flex;\n",
              "      gap: 12px;\n",
              "    }\n",
              "\n",
              "    .colab-df-convert {\n",
              "      background-color: #E8F0FE;\n",
              "      border: none;\n",
              "      border-radius: 50%;\n",
              "      cursor: pointer;\n",
              "      display: none;\n",
              "      fill: #1967D2;\n",
              "      height: 32px;\n",
              "      padding: 0 0 0 0;\n",
              "      width: 32px;\n",
              "    }\n",
              "\n",
              "    .colab-df-convert:hover {\n",
              "      background-color: #E2EBFA;\n",
              "      box-shadow: 0px 1px 2px rgba(60, 64, 67, 0.3), 0px 1px 3px 1px rgba(60, 64, 67, 0.15);\n",
              "      fill: #174EA6;\n",
              "    }\n",
              "\n",
              "    .colab-df-buttons div {\n",
              "      margin-bottom: 4px;\n",
              "    }\n",
              "\n",
              "    [theme=dark] .colab-df-convert {\n",
              "      background-color: #3B4455;\n",
              "      fill: #D2E3FC;\n",
              "    }\n",
              "\n",
              "    [theme=dark] .colab-df-convert:hover {\n",
              "      background-color: #434B5C;\n",
              "      box-shadow: 0px 1px 3px 1px rgba(0, 0, 0, 0.15);\n",
              "      filter: drop-shadow(0px 1px 2px rgba(0, 0, 0, 0.3));\n",
              "      fill: #FFFFFF;\n",
              "    }\n",
              "  </style>\n",
              "\n",
              "    <script>\n",
              "      const buttonEl =\n",
              "        document.querySelector('#df-e1120657-9ef7-4fcc-bf37-101bb0bd9c15 button.colab-df-convert');\n",
              "      buttonEl.style.display =\n",
              "        google.colab.kernel.accessAllowed ? 'block' : 'none';\n",
              "\n",
              "      async function convertToInteractive(key) {\n",
              "        const element = document.querySelector('#df-e1120657-9ef7-4fcc-bf37-101bb0bd9c15');\n",
              "        const dataTable =\n",
              "          await google.colab.kernel.invokeFunction('convertToInteractive',\n",
              "                                                    [key], {});\n",
              "        if (!dataTable) return;\n",
              "\n",
              "        const docLinkHtml = 'Like what you see? Visit the ' +\n",
              "          '<a target=\"_blank\" href=https://colab.research.google.com/notebooks/data_table.ipynb>data table notebook</a>'\n",
              "          + ' to learn more about interactive tables.';\n",
              "        element.innerHTML = '';\n",
              "        dataTable['output_type'] = 'display_data';\n",
              "        await google.colab.output.renderOutput(dataTable, element);\n",
              "        const docLink = document.createElement('div');\n",
              "        docLink.innerHTML = docLinkHtml;\n",
              "        element.appendChild(docLink);\n",
              "      }\n",
              "    </script>\n",
              "  </div>\n",
              "\n",
              "\n",
              "<div id=\"df-f61e81bc-4248-4394-882a-091d01796fdb\">\n",
              "  <button class=\"colab-df-quickchart\" onclick=\"quickchart('df-f61e81bc-4248-4394-882a-091d01796fdb')\"\n",
              "            title=\"Suggest charts.\"\n",
              "            style=\"display:none;\">\n",
              "\n",
              "<svg xmlns=\"http://www.w3.org/2000/svg\" height=\"24px\"viewBox=\"0 0 24 24\"\n",
              "     width=\"24px\">\n",
              "    <g>\n",
              "        <path d=\"M19 3H5c-1.1 0-2 .9-2 2v14c0 1.1.9 2 2 2h14c1.1 0 2-.9 2-2V5c0-1.1-.9-2-2-2zM9 17H7v-7h2v7zm4 0h-2V7h2v10zm4 0h-2v-4h2v4z\"/>\n",
              "    </g>\n",
              "</svg>\n",
              "  </button>\n",
              "\n",
              "<style>\n",
              "  .colab-df-quickchart {\n",
              "      --bg-color: #E8F0FE;\n",
              "      --fill-color: #1967D2;\n",
              "      --hover-bg-color: #E2EBFA;\n",
              "      --hover-fill-color: #174EA6;\n",
              "      --disabled-fill-color: #AAA;\n",
              "      --disabled-bg-color: #DDD;\n",
              "  }\n",
              "\n",
              "  [theme=dark] .colab-df-quickchart {\n",
              "      --bg-color: #3B4455;\n",
              "      --fill-color: #D2E3FC;\n",
              "      --hover-bg-color: #434B5C;\n",
              "      --hover-fill-color: #FFFFFF;\n",
              "      --disabled-bg-color: #3B4455;\n",
              "      --disabled-fill-color: #666;\n",
              "  }\n",
              "\n",
              "  .colab-df-quickchart {\n",
              "    background-color: var(--bg-color);\n",
              "    border: none;\n",
              "    border-radius: 50%;\n",
              "    cursor: pointer;\n",
              "    display: none;\n",
              "    fill: var(--fill-color);\n",
              "    height: 32px;\n",
              "    padding: 0;\n",
              "    width: 32px;\n",
              "  }\n",
              "\n",
              "  .colab-df-quickchart:hover {\n",
              "    background-color: var(--hover-bg-color);\n",
              "    box-shadow: 0 1px 2px rgba(60, 64, 67, 0.3), 0 1px 3px 1px rgba(60, 64, 67, 0.15);\n",
              "    fill: var(--button-hover-fill-color);\n",
              "  }\n",
              "\n",
              "  .colab-df-quickchart-complete:disabled,\n",
              "  .colab-df-quickchart-complete:disabled:hover {\n",
              "    background-color: var(--disabled-bg-color);\n",
              "    fill: var(--disabled-fill-color);\n",
              "    box-shadow: none;\n",
              "  }\n",
              "\n",
              "  .colab-df-spinner {\n",
              "    border: 2px solid var(--fill-color);\n",
              "    border-color: transparent;\n",
              "    border-bottom-color: var(--fill-color);\n",
              "    animation:\n",
              "      spin 1s steps(1) infinite;\n",
              "  }\n",
              "\n",
              "  @keyframes spin {\n",
              "    0% {\n",
              "      border-color: transparent;\n",
              "      border-bottom-color: var(--fill-color);\n",
              "      border-left-color: var(--fill-color);\n",
              "    }\n",
              "    20% {\n",
              "      border-color: transparent;\n",
              "      border-left-color: var(--fill-color);\n",
              "      border-top-color: var(--fill-color);\n",
              "    }\n",
              "    30% {\n",
              "      border-color: transparent;\n",
              "      border-left-color: var(--fill-color);\n",
              "      border-top-color: var(--fill-color);\n",
              "      border-right-color: var(--fill-color);\n",
              "    }\n",
              "    40% {\n",
              "      border-color: transparent;\n",
              "      border-right-color: var(--fill-color);\n",
              "      border-top-color: var(--fill-color);\n",
              "    }\n",
              "    60% {\n",
              "      border-color: transparent;\n",
              "      border-right-color: var(--fill-color);\n",
              "    }\n",
              "    80% {\n",
              "      border-color: transparent;\n",
              "      border-right-color: var(--fill-color);\n",
              "      border-bottom-color: var(--fill-color);\n",
              "    }\n",
              "    90% {\n",
              "      border-color: transparent;\n",
              "      border-bottom-color: var(--fill-color);\n",
              "    }\n",
              "  }\n",
              "</style>\n",
              "\n",
              "  <script>\n",
              "    async function quickchart(key) {\n",
              "      const quickchartButtonEl =\n",
              "        document.querySelector('#' + key + ' button');\n",
              "      quickchartButtonEl.disabled = true;  // To prevent multiple clicks.\n",
              "      quickchartButtonEl.classList.add('colab-df-spinner');\n",
              "      try {\n",
              "        const charts = await google.colab.kernel.invokeFunction(\n",
              "            'suggestCharts', [key], {});\n",
              "      } catch (error) {\n",
              "        console.error('Error during call to suggestCharts:', error);\n",
              "      }\n",
              "      quickchartButtonEl.classList.remove('colab-df-spinner');\n",
              "      quickchartButtonEl.classList.add('colab-df-quickchart-complete');\n",
              "    }\n",
              "    (() => {\n",
              "      let quickchartButtonEl =\n",
              "        document.querySelector('#df-f61e81bc-4248-4394-882a-091d01796fdb button');\n",
              "      quickchartButtonEl.style.display =\n",
              "        google.colab.kernel.accessAllowed ? 'block' : 'none';\n",
              "    })();\n",
              "  </script>\n",
              "</div>\n",
              "    </div>\n",
              "  </div>\n"
            ]
          },
          "metadata": {},
          "execution_count": 6
        }
      ]
    },
    {
      "cell_type": "code",
      "source": [
        "df1 = df.reset_index()['close']"
      ],
      "metadata": {
        "id": "HVpIEX2-hdZI"
      },
      "execution_count": null,
      "outputs": []
    },
    {
      "cell_type": "code",
      "source": [
        "df1.head()"
      ],
      "metadata": {
        "colab": {
          "base_uri": "https://localhost:8080/"
        },
        "id": "yD7heGXdh9HN",
        "outputId": "26bcc654-cff2-4942-d76f-5dc47e3b5d0c"
      },
      "execution_count": null,
      "outputs": [
        {
          "output_type": "execute_result",
          "data": {
            "text/plain": [
              "0    220.65\n",
              "1    222.73\n",
              "2    215.09\n",
              "3    219.80\n",
              "4    216.30\n",
              "Name: close, dtype: float64"
            ]
          },
          "metadata": {},
          "execution_count": 8
        }
      ]
    },
    {
      "cell_type": "code",
      "source": [
        "import matplotlib.pyplot as plt\n",
        "plt.plot(df1)"
      ],
      "metadata": {
        "colab": {
          "base_uri": "https://localhost:8080/",
          "height": 447
        },
        "id": "sPfxJdW-h-Sy",
        "outputId": "431c0555-efac-4fab-9256-a08fdef9968c"
      },
      "execution_count": null,
      "outputs": [
        {
          "output_type": "execute_result",
          "data": {
            "text/plain": [
              "[<matplotlib.lines.Line2D at 0x78820ae1faf0>]"
            ]
          },
          "metadata": {},
          "execution_count": 9
        },
        {
          "output_type": "display_data",
          "data": {
            "text/plain": [
              "<Figure size 640x480 with 1 Axes>"
            ],
            "image/png": "[encoded data removed]"
          },
          "metadata": {}
        }
      ]
    },
    {
      "cell_type": "code",
      "source": [
        "# LSTM are sensitive to the scale of the data. so we apply MinMax scaler\n",
        "import numpy as np"
      ],
      "metadata": {
        "id": "ozc9CXeyiJEG"
      },
      "execution_count": null,
      "outputs": []
    },
    {
      "cell_type": "code",
      "source": [
        "# scaling the dataset in range of 0 to 1\n",
        "from sklearn.preprocessing import MinMaxScaler\n",
        "scaler = MinMaxScaler(feature_range = (0,1))\n",
        "df1 = scaler.fit_transform(np.array(df1).reshape(-1,1))"
      ],
      "metadata": {
        "id": "BSeFP5MQir2j"
      },
      "execution_count": null,
      "outputs": []
    },
    {
      "cell_type": "code",
      "source": [
        "df1"
      ],
      "metadata": {
        "colab": {
          "base_uri": "https://localhost:8080/"
        },
        "id": "ySEQfqFLjTIK",
        "outputId": "75f95d4a-88b6-4eba-ae94-fb5b9bb0e1a2"
      },
      "execution_count": null,
      "outputs": [
        {
          "output_type": "execute_result",
          "data": {
            "text/plain": [
              "array([[0.28505949],\n",
              "       [0.29026925],\n",
              "       [0.27113338],\n",
              "       ...,\n",
              "       [0.1761052 ],\n",
              "       [0.17282405],\n",
              "       [0.17187226]])"
            ]
          },
          "metadata": {},
          "execution_count": 12
        }
      ]
    },
    {
      "cell_type": "code",
      "source": [
        "# splitting the dataset into train and test split\n",
        "train_size = int(len(df1)*0.65)\n",
        "test_size = len(df1) - train_size\n",
        "train_data,test_data = df1[0:train_size,:],df1[train_size:len(df1),:1]"
      ],
      "metadata": {
        "id": "dP4ZG8c4jUZt"
      },
      "execution_count": null,
      "outputs": []
    },
    {
      "cell_type": "code",
      "source": [
        "train_size,test_size"
      ],
      "metadata": {
        "colab": {
          "base_uri": "https://localhost:8080/"
        },
        "id": "WrFY9XFplAnl",
        "outputId": "8e1fc406-7273-42ca-fd20-ce1e85c61c6f"
      },
      "execution_count": null,
      "outputs": [
        {
          "output_type": "execute_result",
          "data": {
            "text/plain": [
              "(817, 440)"
            ]
          },
          "metadata": {},
          "execution_count": 14
        }
      ]
    },
    {
      "cell_type": "code",
      "source": [
        "# converting an array of values into a dataset matrix\n",
        "def create_dataset(dataset,time_step = 1):\n",
        "  datax, datay = [], []\n",
        "  for i in range(len(dataset)-time_step-1):\n",
        "    a = dataset[i:(i+time_step),0]\n",
        "    datax.append(a)\n",
        "    datay.append(dataset[i + time_step, 0])\n",
        "  return np.array(datax),np.array(datay)"
      ],
      "metadata": {
        "id": "llHUl33qlGgv"
      },
      "execution_count": null,
      "outputs": []
    },
    {
      "cell_type": "code",
      "source": [
        "time_step = 100\n",
        "x_train,y_train = create_dataset(train_data, time_step)\n",
        "x_test,y_test = create_dataset(test_data, time_step)"
      ],
      "metadata": {
        "id": "WJBhzFx9prdi"
      },
      "execution_count": null,
      "outputs": []
    },
    {
      "cell_type": "code",
      "source": [
        "print(x_train)"
      ],
      "metadata": {
        "colab": {
          "base_uri": "https://localhost:8080/"
        },
        "id": "z93cwm9_By6n",
        "outputId": "11998a1a-e86a-4a57-b3cc-62837ae81782"
      },
      "execution_count": null,
      "outputs": [
        {
          "output_type": "stream",
          "name": "stdout",
          "text": [
            "[[0.28505949 0.29026925 0.27113338 ... 0.1925861  0.19857232 0.20333125]\n",
            " [0.29026925 0.27113338 0.28293049 ... 0.19857232 0.20333125 0.19959925]\n",
            " [0.27113338 0.28293049 0.27416406 ... 0.20333125 0.19959925 0.2036819 ]\n",
            " ...\n",
            " [0.10737633 0.10715091 0.10399499 ... 0.1636819  0.17092048 0.17204759]\n",
            " [0.10715091 0.10399499 0.10194114 ... 0.17092048 0.17204759 0.1636819 ]\n",
            " [0.10399499 0.10194114 0.10459612 ... 0.17204759 0.1636819  0.16588604]]\n"
          ]
        }
      ]
    },
    {
      "cell_type": "code",
      "source": [
        "# reshape input to be [samples,time steps,features] which is requiered for LSTM\n",
        "x_train = x_train.reshape(x_train.shape[0],x_train.shape[1],1)\n",
        "x_test = x_test.reshape(x_test.shape[0],x_test.shape[1],1)"
      ],
      "metadata": {
        "id": "-O-RGY5YB5-V"
      },
      "execution_count": null,
      "outputs": []
    },
    {
      "cell_type": "code",
      "source": [
        "# creating the LSTM model\n",
        "from tensorflow.keras.models import Sequential\n",
        "from tensorflow.keras.layers import Dense,LSTM"
      ],
      "metadata": {
        "id": "1xli29hXDGJv"
      },
      "execution_count": null,
      "outputs": []
    },
    {
      "cell_type": "code",
      "source": [
        "model = Sequential()\n",
        "model.add(LSTM(50,return_sequences=True,input_shape = (100,1)))\n",
        "model.add(LSTM(50,return_sequences=True))\n",
        "model.add(LSTM(50))\n",
        "model.add(Dense(1))\n",
        "model.compile(loss = 'mean_squared_error',optimizer = 'adam',metrics = ['mse'])"
      ],
      "metadata": {
        "id": "HEriKpYdDg-F"
      },
      "execution_count": null,
      "outputs": []
    },
    {
      "cell_type": "code",
      "source": [
        "model.summary()"
      ],
      "metadata": {
        "colab": {
          "base_uri": "https://localhost:8080/"
        },
        "id": "T7ynetITED_F",
        "outputId": "8f81bc98-5b96-4943-c85c-118cd4fd541e"
      },
      "execution_count": null,
      "outputs": [
        {
          "output_type": "stream",
          "name": "stdout",
          "text": [
            "Model: \"sequential\"\n",
            "_________________________________________________________________\n",
            " Layer (type)                Output Shape              Param #   \n",
            "=================================================================\n",
            " lstm (LSTM)                 (None, 100, 50)           10400     \n",
            "                                                                 \n",
            " lstm_1 (LSTM)               (None, 100, 50)           20200     \n",
            "                                                                 \n",
            " lstm_2 (LSTM)               (None, 50)                20200     \n",
            "                                                                 \n",
            " dense (Dense)               (None, 1)                 51        \n",
            "                                                                 \n",
            "=================================================================\n",
            "Total params: 50851 (198.64 KB)\n",
            "Trainable params: 50851 (198.64 KB)\n",
            "Non-trainable params: 0 (0.00 Byte)\n",
            "_________________________________________________________________\n"
          ]
        }
      ]
    },
    {
      "cell_type": "code",
      "source": [
        "model.fit(x_train,y_train,validation_data = (x_test,y_test),epochs = 100,batch_size = 64,verbose = 1)"
      ],
      "metadata": {
        "colab": {
          "base_uri": "https://localhost:8080/"
        },
        "id": "gBTZL6QXEHjt",
        "outputId": "ca9a1c98-8de6-45e8-9ffa-c5dfde6c21d0"
      },
      "execution_count": null,
      "outputs": [
        {
          "output_type": "stream",
          "name": "stdout",
          "text": [
            "Epoch 1/100\n",
            "12/12 [==============================] - 14s 652ms/step - loss: 0.0500 - mse: 0.0500 - val_loss: 0.0054 - val_mse: 0.0054\n",
            "Epoch 2/100\n",
            "12/12 [==============================] - 5s 419ms/step - loss: 0.0141 - mse: 0.0141 - val_loss: 0.0021 - val_mse: 0.0021\n",
            "Epoch 3/100\n",
            "12/12 [==============================] - 4s 372ms/step - loss: 0.0116 - mse: 0.0116 - val_loss: 3.9060e-04 - val_mse: 3.9060e-04\n",
            "Epoch 4/100\n",
            "12/12 [==============================] - 4s 302ms/step - loss: 0.0094 - mse: 0.0094 - val_loss: 3.3692e-04 - val_mse: 3.3692e-04\n",
            "Epoch 5/100\n",
            "12/12 [==============================] - 2s 172ms/step - loss: 0.0088 - mse: 0.0088 - val_loss: 6.0419e-04 - val_mse: 6.0419e-04\n",
            "Epoch 6/100\n",
            "12/12 [==============================] - 2s 179ms/step - loss: 0.0075 - mse: 0.0075 - val_loss: 0.0014 - val_mse: 0.0014\n",
            "Epoch 7/100\n",
            "12/12 [==============================] - 2s 171ms/step - loss: 0.0063 - mse: 0.0063 - val_loss: 3.0892e-04 - val_mse: 3.0892e-04\n",
            "Epoch 8/100\n",
            "12/12 [==============================] - 2s 176ms/step - loss: 0.0059 - mse: 0.0059 - val_loss: 6.3065e-04 - val_mse: 6.3065e-04\n",
            "Epoch 9/100\n",
            "12/12 [==============================] - 2s 196ms/step - loss: 0.0057 - mse: 0.0057 - val_loss: 4.1963e-04 - val_mse: 4.1963e-04\n",
            "Epoch 10/100\n",
            "12/12 [==============================] - 3s 234ms/step - loss: 0.0064 - mse: 0.0064 - val_loss: 3.4106e-04 - val_mse: 3.4106e-04\n",
            "Epoch 11/100\n",
            "12/12 [==============================] - 2s 176ms/step - loss: 0.0047 - mse: 0.0047 - val_loss: 3.7116e-04 - val_mse: 3.7116e-04\n",
            "Epoch 12/100\n",
            "12/12 [==============================] - 2s 172ms/step - loss: 0.0039 - mse: 0.0039 - val_loss: 3.2527e-04 - val_mse: 3.2527e-04\n",
            "Epoch 13/100\n",
            "12/12 [==============================] - 2s 172ms/step - loss: 0.0034 - mse: 0.0034 - val_loss: 2.3968e-04 - val_mse: 2.3968e-04\n",
            "Epoch 14/100\n",
            "12/12 [==============================] - 2s 174ms/step - loss: 0.0036 - mse: 0.0036 - val_loss: 2.4358e-04 - val_mse: 2.4358e-04\n",
            "Epoch 15/100\n",
            "12/12 [==============================] - 3s 277ms/step - loss: 0.0036 - mse: 0.0036 - val_loss: 2.3628e-04 - val_mse: 2.3628e-04\n",
            "Epoch 16/100\n",
            "12/12 [==============================] - 2s 173ms/step - loss: 0.0032 - mse: 0.0032 - val_loss: 2.0438e-04 - val_mse: 2.0438e-04\n",
            "Epoch 17/100\n",
            "12/12 [==============================] - 2s 174ms/step - loss: 0.0031 - mse: 0.0031 - val_loss: 3.7006e-04 - val_mse: 3.7006e-04\n",
            "Epoch 18/100\n",
            "12/12 [==============================] - 2s 179ms/step - loss: 0.0030 - mse: 0.0030 - val_loss: 2.2802e-04 - val_mse: 2.2802e-04\n",
            "Epoch 19/100\n",
            "12/12 [==============================] - 2s 179ms/step - loss: 0.0025 - mse: 0.0025 - val_loss: 2.3002e-04 - val_mse: 2.3002e-04\n",
            "Epoch 20/100\n",
            "12/12 [==============================] - 3s 221ms/step - loss: 0.0023 - mse: 0.0023 - val_loss: 2.3292e-04 - val_mse: 2.3292e-04\n",
            "Epoch 21/100\n",
            "12/12 [==============================] - 3s 220ms/step - loss: 0.0021 - mse: 0.0021 - val_loss: 2.6137e-04 - val_mse: 2.6137e-04\n",
            "Epoch 22/100\n",
            "12/12 [==============================] - 2s 173ms/step - loss: 0.0028 - mse: 0.0028 - val_loss: 3.2051e-04 - val_mse: 3.2051e-04\n",
            "Epoch 23/100\n",
            "12/12 [==============================] - 2s 180ms/step - loss: 0.0023 - mse: 0.0023 - val_loss: 2.2241e-04 - val_mse: 2.2241e-04\n",
            "Epoch 24/100\n",
            "12/12 [==============================] - 2s 173ms/step - loss: 0.0048 - mse: 0.0048 - val_loss: 8.3469e-04 - val_mse: 8.3469e-04\n",
            "Epoch 25/100\n",
            "12/12 [==============================] - 2s 179ms/step - loss: 0.0035 - mse: 0.0035 - val_loss: 4.1967e-04 - val_mse: 4.1967e-04\n",
            "Epoch 26/100\n",
            "12/12 [==============================] - 3s 295ms/step - loss: 0.0036 - mse: 0.0036 - val_loss: 7.0827e-04 - val_mse: 7.0827e-04\n",
            "Epoch 27/100\n",
            "12/12 [==============================] - 2s 177ms/step - loss: 0.0025 - mse: 0.0025 - val_loss: 2.2656e-04 - val_mse: 2.2656e-04\n",
            "Epoch 28/100\n",
            "12/12 [==============================] - 2s 175ms/step - loss: 0.0024 - mse: 0.0024 - val_loss: 2.1571e-04 - val_mse: 2.1571e-04\n",
            "Epoch 29/100\n",
            "12/12 [==============================] - 2s 182ms/step - loss: 0.0021 - mse: 0.0021 - val_loss: 6.0549e-04 - val_mse: 6.0549e-04\n",
            "Epoch 30/100\n",
            "12/12 [==============================] - 2s 175ms/step - loss: 0.0025 - mse: 0.0025 - val_loss: 2.4236e-04 - val_mse: 2.4236e-04\n",
            "Epoch 31/100\n",
            "12/12 [==============================] - 3s 240ms/step - loss: 0.0018 - mse: 0.0018 - val_loss: 2.2497e-04 - val_mse: 2.2497e-04\n",
            "Epoch 32/100\n",
            "12/12 [==============================] - 2s 199ms/step - loss: 0.0017 - mse: 0.0017 - val_loss: 1.9515e-04 - val_mse: 1.9515e-04\n",
            "Epoch 33/100\n",
            "12/12 [==============================] - 2s 174ms/step - loss: 0.0017 - mse: 0.0017 - val_loss: 2.0088e-04 - val_mse: 2.0088e-04\n",
            "Epoch 34/100\n",
            "12/12 [==============================] - 2s 181ms/step - loss: 0.0018 - mse: 0.0018 - val_loss: 2.6984e-04 - val_mse: 2.6984e-04\n",
            "Epoch 35/100\n",
            "12/12 [==============================] - 2s 178ms/step - loss: 0.0048 - mse: 0.0048 - val_loss: 0.0018 - val_mse: 0.0018\n",
            "Epoch 36/100\n",
            "12/12 [==============================] - 2s 178ms/step - loss: 0.0041 - mse: 0.0041 - val_loss: 2.6146e-04 - val_mse: 2.6146e-04\n",
            "Epoch 37/100\n",
            "12/12 [==============================] - 3s 265ms/step - loss: 0.0031 - mse: 0.0031 - val_loss: 3.6361e-04 - val_mse: 3.6361e-04\n",
            "Epoch 38/100\n",
            "12/12 [==============================] - 2s 174ms/step - loss: 0.0026 - mse: 0.0026 - val_loss: 1.9748e-04 - val_mse: 1.9748e-04\n",
            "Epoch 39/100\n",
            "12/12 [==============================] - 2s 175ms/step - loss: 0.0024 - mse: 0.0024 - val_loss: 2.0614e-04 - val_mse: 2.0614e-04\n",
            "Epoch 40/100\n",
            "12/12 [==============================] - 2s 172ms/step - loss: 0.0027 - mse: 0.0027 - val_loss: 2.0810e-04 - val_mse: 2.0810e-04\n",
            "Epoch 41/100\n",
            "12/12 [==============================] - 2s 176ms/step - loss: 0.0029 - mse: 0.0029 - val_loss: 1.8991e-04 - val_mse: 1.8991e-04\n",
            "Epoch 42/100\n",
            "12/12 [==============================] - 3s 297ms/step - loss: 0.0029 - mse: 0.0029 - val_loss: 1.8645e-04 - val_mse: 1.8645e-04\n",
            "Epoch 43/100\n",
            "12/12 [==============================] - 3s 216ms/step - loss: 0.0023 - mse: 0.0023 - val_loss: 3.1163e-04 - val_mse: 3.1163e-04\n",
            "Epoch 44/100\n",
            "12/12 [==============================] - 2s 174ms/step - loss: 0.0024 - mse: 0.0024 - val_loss: 1.8989e-04 - val_mse: 1.8989e-04\n",
            "Epoch 45/100\n",
            "12/12 [==============================] - 2s 178ms/step - loss: 0.0021 - mse: 0.0021 - val_loss: 2.1884e-04 - val_mse: 2.1884e-04\n",
            "Epoch 46/100\n",
            "12/12 [==============================] - 2s 173ms/step - loss: 0.0018 - mse: 0.0018 - val_loss: 1.9794e-04 - val_mse: 1.9794e-04\n",
            "Epoch 47/100\n",
            "12/12 [==============================] - 3s 233ms/step - loss: 0.0017 - mse: 0.0017 - val_loss: 2.1328e-04 - val_mse: 2.1328e-04\n",
            "Epoch 48/100\n",
            "12/12 [==============================] - 3s 207ms/step - loss: 0.0017 - mse: 0.0017 - val_loss: 3.0552e-04 - val_mse: 3.0552e-04\n",
            "Epoch 49/100\n",
            "12/12 [==============================] - 2s 175ms/step - loss: 0.0019 - mse: 0.0019 - val_loss: 2.6235e-04 - val_mse: 2.6235e-04\n",
            "Epoch 50/100\n",
            "12/12 [==============================] - 2s 173ms/step - loss: 0.0018 - mse: 0.0018 - val_loss: 2.3972e-04 - val_mse: 2.3972e-04\n",
            "Epoch 51/100\n",
            "12/12 [==============================] - 2s 184ms/step - loss: 0.0017 - mse: 0.0017 - val_loss: 2.3860e-04 - val_mse: 2.3860e-04\n",
            "Epoch 52/100\n",
            "12/12 [==============================] - 2s 172ms/step - loss: 0.0015 - mse: 0.0015 - val_loss: 2.1674e-04 - val_mse: 2.1674e-04\n",
            "Epoch 53/100\n",
            "12/12 [==============================] - 3s 270ms/step - loss: 0.0016 - mse: 0.0016 - val_loss: 2.7257e-04 - val_mse: 2.7257e-04\n",
            "Epoch 54/100\n",
            "12/12 [==============================] - 2s 179ms/step - loss: 0.0014 - mse: 0.0014 - val_loss: 2.0437e-04 - val_mse: 2.0437e-04\n",
            "Epoch 55/100\n",
            "12/12 [==============================] - 2s 178ms/step - loss: 0.0019 - mse: 0.0019 - val_loss: 1.9481e-04 - val_mse: 1.9481e-04\n",
            "Epoch 56/100\n",
            "12/12 [==============================] - 2s 179ms/step - loss: 0.0017 - mse: 0.0017 - val_loss: 1.9939e-04 - val_mse: 1.9939e-04\n",
            "Epoch 57/100\n",
            "12/12 [==============================] - 2s 177ms/step - loss: 0.0014 - mse: 0.0014 - val_loss: 1.9677e-04 - val_mse: 1.9677e-04\n",
            "Epoch 58/100\n",
            "12/12 [==============================] - 3s 252ms/step - loss: 0.0017 - mse: 0.0017 - val_loss: 2.1293e-04 - val_mse: 2.1293e-04\n",
            "Epoch 59/100\n",
            "12/12 [==============================] - 2s 191ms/step - loss: 0.0016 - mse: 0.0016 - val_loss: 3.0303e-04 - val_mse: 3.0303e-04\n",
            "Epoch 60/100\n",
            "12/12 [==============================] - 2s 179ms/step - loss: 0.0027 - mse: 0.0027 - val_loss: 6.3212e-04 - val_mse: 6.3212e-04\n",
            "Epoch 61/100\n",
            "12/12 [==============================] - 2s 177ms/step - loss: 0.0019 - mse: 0.0019 - val_loss: 3.0264e-04 - val_mse: 3.0264e-04\n",
            "Epoch 62/100\n",
            "12/12 [==============================] - 2s 176ms/step - loss: 0.0015 - mse: 0.0015 - val_loss: 1.9954e-04 - val_mse: 1.9954e-04\n",
            "Epoch 63/100\n",
            "12/12 [==============================] - 2s 206ms/step - loss: 0.0013 - mse: 0.0013 - val_loss: 1.9826e-04 - val_mse: 1.9826e-04\n",
            "Epoch 64/100\n",
            "12/12 [==============================] - 3s 237ms/step - loss: 0.0016 - mse: 0.0016 - val_loss: 1.9006e-04 - val_mse: 1.9006e-04\n",
            "Epoch 65/100\n",
            "12/12 [==============================] - 2s 175ms/step - loss: 0.0018 - mse: 0.0018 - val_loss: 1.9336e-04 - val_mse: 1.9336e-04\n",
            "Epoch 66/100\n",
            "12/12 [==============================] - 2s 177ms/step - loss: 0.0022 - mse: 0.0022 - val_loss: 3.1659e-04 - val_mse: 3.1659e-04\n",
            "Epoch 67/100\n",
            "12/12 [==============================] - 2s 174ms/step - loss: 0.0019 - mse: 0.0019 - val_loss: 3.4300e-04 - val_mse: 3.4300e-04\n",
            "Epoch 68/100\n",
            "12/12 [==============================] - 2s 179ms/step - loss: 0.0016 - mse: 0.0016 - val_loss: 1.9651e-04 - val_mse: 1.9651e-04\n",
            "Epoch 69/100\n",
            "12/12 [==============================] - 3s 251ms/step - loss: 0.0017 - mse: 0.0017 - val_loss: 3.1139e-04 - val_mse: 3.1139e-04\n",
            "Epoch 70/100\n",
            "12/12 [==============================] - 2s 183ms/step - loss: 0.0016 - mse: 0.0016 - val_loss: 2.0590e-04 - val_mse: 2.0590e-04\n",
            "Epoch 71/100\n",
            "12/12 [==============================] - 2s 171ms/step - loss: 0.0014 - mse: 0.0014 - val_loss: 2.0253e-04 - val_mse: 2.0253e-04\n",
            "Epoch 72/100\n",
            "12/12 [==============================] - 2s 176ms/step - loss: 0.0013 - mse: 0.0013 - val_loss: 1.9679e-04 - val_mse: 1.9679e-04\n",
            "Epoch 73/100\n",
            "12/12 [==============================] - 2s 176ms/step - loss: 0.0011 - mse: 0.0011 - val_loss: 2.0445e-04 - val_mse: 2.0445e-04\n",
            "Epoch 74/100\n",
            "12/12 [==============================] - 2s 176ms/step - loss: 0.0012 - mse: 0.0012 - val_loss: 1.9220e-04 - val_mse: 1.9220e-04\n",
            "Epoch 75/100\n",
            "12/12 [==============================] - 3s 257ms/step - loss: 0.0013 - mse: 0.0013 - val_loss: 1.9833e-04 - val_mse: 1.9833e-04\n",
            "Epoch 76/100\n",
            "12/12 [==============================] - 2s 172ms/step - loss: 0.0013 - mse: 0.0013 - val_loss: 1.9254e-04 - val_mse: 1.9254e-04\n",
            "Epoch 77/100\n",
            "12/12 [==============================] - 2s 177ms/step - loss: 0.0016 - mse: 0.0016 - val_loss: 3.8916e-04 - val_mse: 3.8916e-04\n",
            "Epoch 78/100\n",
            "12/12 [==============================] - 2s 173ms/step - loss: 0.0014 - mse: 0.0014 - val_loss: 2.3741e-04 - val_mse: 2.3741e-04\n",
            "Epoch 79/100\n",
            "12/12 [==============================] - 2s 173ms/step - loss: 0.0011 - mse: 0.0011 - val_loss: 1.8950e-04 - val_mse: 1.8950e-04\n",
            "Epoch 80/100\n",
            "12/12 [==============================] - 3s 253ms/step - loss: 0.0012 - mse: 0.0012 - val_loss: 1.8797e-04 - val_mse: 1.8797e-04\n",
            "Epoch 81/100\n",
            "12/12 [==============================] - 2s 188ms/step - loss: 0.0018 - mse: 0.0018 - val_loss: 2.0809e-04 - val_mse: 2.0809e-04\n",
            "Epoch 82/100\n",
            "12/12 [==============================] - 2s 172ms/step - loss: 0.0017 - mse: 0.0017 - val_loss: 2.1212e-04 - val_mse: 2.1212e-04\n",
            "Epoch 83/100\n",
            "12/12 [==============================] - 2s 179ms/step - loss: 0.0015 - mse: 0.0015 - val_loss: 2.3750e-04 - val_mse: 2.3750e-04\n",
            "Epoch 84/100\n",
            "12/12 [==============================] - 2s 176ms/step - loss: 0.0013 - mse: 0.0013 - val_loss: 4.3339e-04 - val_mse: 4.3339e-04\n",
            "Epoch 85/100\n",
            "12/12 [==============================] - 2s 205ms/step - loss: 0.0021 - mse: 0.0021 - val_loss: 7.2893e-04 - val_mse: 7.2893e-04\n",
            "Epoch 86/100\n",
            "12/12 [==============================] - 3s 240ms/step - loss: 0.0018 - mse: 0.0018 - val_loss: 2.1368e-04 - val_mse: 2.1368e-04\n",
            "Epoch 87/100\n",
            "12/12 [==============================] - 2s 172ms/step - loss: 0.0012 - mse: 0.0012 - val_loss: 2.0657e-04 - val_mse: 2.0657e-04\n",
            "Epoch 88/100\n",
            "12/12 [==============================] - 2s 175ms/step - loss: 0.0012 - mse: 0.0012 - val_loss: 2.2443e-04 - val_mse: 2.2443e-04\n",
            "Epoch 89/100\n",
            "12/12 [==============================] - 2s 174ms/step - loss: 0.0013 - mse: 0.0013 - val_loss: 1.8460e-04 - val_mse: 1.8460e-04\n",
            "Epoch 90/100\n",
            "12/12 [==============================] - 2s 173ms/step - loss: 0.0011 - mse: 0.0011 - val_loss: 1.8504e-04 - val_mse: 1.8504e-04\n",
            "Epoch 91/100\n",
            "12/12 [==============================] - 3s 267ms/step - loss: 0.0014 - mse: 0.0014 - val_loss: 1.9740e-04 - val_mse: 1.9740e-04\n",
            "Epoch 92/100\n",
            "12/12 [==============================] - 2s 176ms/step - loss: 0.0014 - mse: 0.0014 - val_loss: 1.9064e-04 - val_mse: 1.9064e-04\n",
            "Epoch 93/100\n",
            "12/12 [==============================] - 2s 175ms/step - loss: 0.0011 - mse: 0.0011 - val_loss: 1.8668e-04 - val_mse: 1.8668e-04\n",
            "Epoch 94/100\n",
            "12/12 [==============================] - 2s 176ms/step - loss: 0.0015 - mse: 0.0015 - val_loss: 1.9784e-04 - val_mse: 1.9784e-04\n",
            "Epoch 95/100\n",
            "12/12 [==============================] - 2s 176ms/step - loss: 0.0013 - mse: 0.0013 - val_loss: 2.0363e-04 - val_mse: 2.0363e-04\n",
            "Epoch 96/100\n",
            "12/12 [==============================] - 2s 211ms/step - loss: 0.0018 - mse: 0.0018 - val_loss: 5.6325e-04 - val_mse: 5.6325e-04\n",
            "Epoch 97/100\n",
            "12/12 [==============================] - 3s 227ms/step - loss: 0.0023 - mse: 0.0023 - val_loss: 2.0939e-04 - val_mse: 2.0939e-04\n",
            "Epoch 98/100\n",
            "12/12 [==============================] - 2s 179ms/step - loss: 0.0015 - mse: 0.0015 - val_loss: 3.7190e-04 - val_mse: 3.7190e-04\n",
            "Epoch 99/100\n",
            "12/12 [==============================] - 2s 178ms/step - loss: 0.0012 - mse: 0.0012 - val_loss: 2.3415e-04 - val_mse: 2.3415e-04\n",
            "Epoch 100/100\n",
            "12/12 [==============================] - 2s 178ms/step - loss: 0.0017 - mse: 0.0017 - val_loss: 1.9149e-04 - val_mse: 1.9149e-04\n"
          ]
        }
      ]
    },
    {
      "cell_type": "code",
      "source": [
        "train_predict = model.predict(x_train)   # taking the prediction of the model\n",
        "test_predict = model.predict(x_test)"
      ],
      "metadata": {
        "colab": {
          "base_uri": "https://localhost:8080/"
        },
        "id": "fzfnS4uJEpJg",
        "outputId": "3b8c0f34-38b1-4676-b2fc-cfeaca122b70"
      },
      "execution_count": null,
      "outputs": [
        {
          "output_type": "stream",
          "name": "stdout",
          "text": [
            "23/23 [==============================] - 2s 32ms/step\n",
            "11/11 [==============================] - 0s 32ms/step\n"
          ]
        }
      ]
    },
    {
      "cell_type": "code",
      "source": [
        "# transformback to original form\n",
        "train_predict = scaler.inverse_transform(train_predict)\n",
        "test_predict = scaler.inverse_transform(test_predict)"
      ],
      "metadata": {
        "id": "O3yvD_qQGZX1"
      },
      "execution_count": null,
      "outputs": []
    },
    {
      "cell_type": "code",
      "source": [
        "# calculating the RMSE performance metrics\n",
        "import math\n",
        "from sklearn.metrics import mean_squared_error\n",
        "math.sqrt(mean_squared_error(y_train,train_predict))"
      ],
      "metadata": {
        "colab": {
          "base_uri": "https://localhost:8080/"
        },
        "id": "TPEEz1ykGxrE",
        "outputId": "f0691fab-c710-4f3f-f526-fb9ad8e786b8"
      },
      "execution_count": null,
      "outputs": [
        {
          "output_type": "execute_result",
          "data": {
            "text/plain": [
              "219.45740245184285"
            ]
          },
          "metadata": {},
          "execution_count": 25
        }
      ]
    },
    {
      "cell_type": "code",
      "source": [
        "math.sqrt(mean_squared_error(y_test,test_predict))"
      ],
      "metadata": {
        "colab": {
          "base_uri": "https://localhost:8080/"
        },
        "id": "IgDcZN8HHPW9",
        "outputId": "7e32e4a5-2faf-4eeb-85e1-928164d63e5b"
      },
      "execution_count": null,
      "outputs": [
        {
          "output_type": "execute_result",
          "data": {
            "text/plain": [
              "159.96183228444679"
            ]
          },
          "metadata": {},
          "execution_count": 26
        }
      ]
    },
    {
      "cell_type": "code",
      "source": [
        "# ploting the stock price graph\n",
        "# shift train predictions for plotting\n",
        "look_back = 100\n",
        "trainPredictplot = np.empty_like(df1)\n",
        "trainPredictplot[:,:] = np.nan\n",
        "trainPredictplot[look_back:len(train_predict)+look_back,:] = train_predict\n",
        "# shift test predictions for plotting\n",
        "testPredictplot = np.empty_like(df1)\n",
        "testPredictplot[:,:] = np.nan\n",
        "testPredictplot[len(train_predict)+(look_back*2)+1:len(df1)-1,:] = test_predict\n",
        "# plot baseline and predictions\n",
        "plt.plot(scaler.inverse_transform(df1))\n",
        "plt.plot(trainPredictplot)\n",
        "plt.plot(testPredictplot)\n",
        "plt.show()"
      ],
      "metadata": {
        "colab": {
          "base_uri": "https://localhost:8080/",
          "height": 430
        },
        "id": "KgTb3hhzHWfO",
        "outputId": "16bdef96-810b-4040-ed57-03fea9b20e6d"
      },
      "execution_count": null,
      "outputs": [
        {
          "output_type": "display_data",
          "data": {
            "text/plain": [
              "<Figure size 640x480 with 1 Axes>"
            ],
            "image/png": "[encoded data removed]"
          },
          "metadata": {}
        }
      ]
    },
    {
      "cell_type": "code",
      "source": [
        "len(test_data)"
      ],
      "metadata": {
        "id": "gMXRuyQVJhqt",
        "colab": {
          "base_uri": "https://localhost:8080/"
        },
        "outputId": "75aa949c-8973-4e6e-8d25-3c86c4967fed"
      },
      "execution_count": null,
      "outputs": [
        {
          "output_type": "execute_result",
          "data": {
            "text/plain": [
              "440"
            ]
          },
          "metadata": {},
          "execution_count": 28
        }
      ]
    },
    {
      "cell_type": "code",
      "source": [
        "x_input = test_data[340:].reshape(1,-1)\n",
        "x_input.shape"
      ],
      "metadata": {
        "colab": {
          "base_uri": "https://localhost:8080/"
        },
        "id": "vYO50C_WRDk4",
        "outputId": "41ecf0be-60de-4bd2-990f-9920123662e5"
      },
      "execution_count": null,
      "outputs": [
        {
          "output_type": "execute_result",
          "data": {
            "text/plain": [
              "(1, 100)"
            ]
          },
          "metadata": {},
          "execution_count": 31
        }
      ]
    },
    {
      "cell_type": "code",
      "source": [
        "temp_input = list(x_input)\n",
        "temp_input = temp_input[0].tolist()"
      ],
      "metadata": {
        "id": "YyKf92X1RN4d"
      },
      "execution_count": null,
      "outputs": []
    },
    {
      "cell_type": "code",
      "source": [
        "# finding predictions of next 30 days\n",
        "from numpy import array\n",
        "\n",
        "lst_output = []\n",
        "n_steps = 100\n",
        "i = 0\n",
        "while(i<30):\n",
        "\n",
        "  if(len(temp_input)>100):\n",
        "    # print(temp_input)\n",
        "    x_input = np.array(temp_input[1:])\n",
        "    print('{} day input {}'.format(i,x_input))\n",
        "    x_input = x_input.reshape(1,-1)\n",
        "    x_input = x_input.reshape((1,n_steps,1))\n",
        "    # print(x_input)\n",
        "    yhat = model.predict(x_input,verbose = 0)\n",
        "    print('{} day output {}'.format(i,yhat))\n",
        "    temp_input.extend(yhat[0].tolist())\n",
        "    temp_input = temp_input[1:]\n",
        "    # print(temp_input)\n",
        "    lst_output.extend(yhat.tolist())\n",
        "    i = i+1\n",
        "  else:\n",
        "    x_input = x_input.reshape((1,n_steps,1))\n",
        "    yhat = model.predict(x_input,verbose = 0)\n",
        "    print(yhat[0])\n",
        "    temp_input.extend(yhat[0].tolist())\n",
        "    print(len(temp_input))\n",
        "    lst_output.extend(yhat.tolist())\n",
        "    i = i+1\n",
        "print(lst_output)"
      ],
      "metadata": {
        "colab": {
          "base_uri": "https://localhost:8080/"
        },
        "id": "gJPqRyKHRynj",
        "outputId": "f38fb632-b2c0-417a-cc04-6c25a3b88432"
      },
      "execution_count": null,
      "outputs": [
        {
          "output_type": "stream",
          "name": "stdout",
          "text": [
            "0 day input [0.17976205 0.18371947 0.19356293 0.20240451 0.20295554 0.20693801\n",
            " 0.20753914 0.19053225 0.17713212 0.17868503 0.18164058 0.17397621\n",
            " 0.16874139 0.17257358 0.17074515 0.17815905 0.18091421 0.1719474\n",
            " 0.16804008 0.17019411 0.17342517 0.16310582 0.15927364 0.15992486\n",
            " 0.1612273  0.16758923 0.16420789 0.16736381 0.17049468 0.17695679\n",
            " 0.18071384 0.17921102 0.18274264 0.18502192 0.18036318 0.18003757\n",
            " 0.1761052  0.17282405 0.17187226 0.173585   0.17319533 0.17259808\n",
            " 0.17188293 0.17109977 0.17027541 0.16942471 0.16855703 0.16767919\n",
            " 0.16679688 0.16591479 0.16503698 0.1641665  0.16330564 0.16245565\n",
            " 0.16161714 0.16079013 0.1599741  0.15916827 0.15837182 0.15758352\n",
            " 0.15680259 0.15602812 0.15525937 0.15449578 0.15373699 0.15298273\n",
            " 0.15223294 0.15148766 0.15074706 0.15001144 0.14928104 0.14855626\n",
            " 0.14783743 0.14712498 0.1464192  0.14572047 0.14502901 0.14434509\n",
            " 0.14366888 0.14300056 0.14234017 0.14168777 0.14104341 0.14040697\n",
            " 0.13977848 0.13915785 0.13854496 0.13793969 0.13734192 0.1367515\n",
            " 0.13616832 0.13559231 0.13502327 0.13446112 0.13390578 0.13335711\n",
            " 0.13281503 0.13227946 0.13175033 0.13122755]\n",
            "0 day output [[0.13071108]]\n",
            "1 day input [0.18371947 0.19356293 0.20240451 0.20295554 0.20693801 0.20753914\n",
            " 0.19053225 0.17713212 0.17868503 0.18164058 0.17397621 0.16874139\n",
            " 0.17257358 0.17074515 0.17815905 0.18091421 0.1719474  0.16804008\n",
            " 0.17019411 0.17342517 0.16310582 0.15927364 0.15992486 0.1612273\n",
            " 0.16758923 0.16420789 0.16736381 0.17049468 0.17695679 0.18071384\n",
            " 0.17921102 0.18274264 0.18502192 0.18036318 0.18003757 0.1761052\n",
            " 0.17282405 0.17187226 0.173585   0.17319533 0.17259808 0.17188293\n",
            " 0.17109977 0.17027541 0.16942471 0.16855703 0.16767919 0.16679688\n",
            " 0.16591479 0.16503698 0.1641665  0.16330564 0.16245565 0.16161714\n",
            " 0.16079013 0.1599741  0.15916827 0.15837182 0.15758352 0.15680259\n",
            " 0.15602812 0.15525937 0.15449578 0.15373699 0.15298273 0.15223294\n",
            " 0.15148766 0.15074706 0.15001144 0.14928104 0.14855626 0.14783743\n",
            " 0.14712498 0.1464192  0.14572047 0.14502901 0.14434509 0.14366888\n",
            " 0.14300056 0.14234017 0.14168777 0.14104341 0.14040697 0.13977848\n",
            " 0.13915785 0.13854496 0.13793969 0.13734192 0.1367515  0.13616832\n",
            " 0.13559231 0.13502327 0.13446112 0.13390578 0.13335711 0.13281503\n",
            " 0.13227946 0.13175033 0.13122755 0.13071108]\n",
            "1 day output [[0.13020083]]\n",
            "2 day input [0.19356293 0.20240451 0.20295554 0.20693801 0.20753914 0.19053225\n",
            " 0.17713212 0.17868503 0.18164058 0.17397621 0.16874139 0.17257358\n",
            " 0.17074515 0.17815905 0.18091421 0.1719474  0.16804008 0.17019411\n",
            " 0.17342517 0.16310582 0.15927364 0.15992486 0.1612273  0.16758923\n",
            " 0.16420789 0.16736381 0.17049468 0.17695679 0.18071384 0.17921102\n",
            " 0.18274264 0.18502192 0.18036318 0.18003757 0.1761052  0.17282405\n",
            " 0.17187226 0.173585   0.17319533 0.17259808 0.17188293 0.17109977\n",
            " 0.17027541 0.16942471 0.16855703 0.16767919 0.16679688 0.16591479\n",
            " 0.16503698 0.1641665  0.16330564 0.16245565 0.16161714 0.16079013\n",
            " 0.1599741  0.15916827 0.15837182 0.15758352 0.15680259 0.15602812\n",
            " 0.15525937 0.15449578 0.15373699 0.15298273 0.15223294 0.15148766\n",
            " 0.15074706 0.15001144 0.14928104 0.14855626 0.14783743 0.14712498\n",
            " 0.1464192  0.14572047 0.14502901 0.14434509 0.14366888 0.14300056\n",
            " 0.14234017 0.14168777 0.14104341 0.14040697 0.13977848 0.13915785\n",
            " 0.13854496 0.13793969 0.13734192 0.1367515  0.13616832 0.13559231\n",
            " 0.13502327 0.13446112 0.13390578 0.13335711 0.13281503 0.13227946\n",
            " 0.13175033 0.13122755 0.13071108 0.13020083]\n",
            "2 day output [[0.12969682]]\n",
            "3 day input [0.20240451 0.20295554 0.20693801 0.20753914 0.19053225 0.17713212\n",
            " 0.17868503 0.18164058 0.17397621 0.16874139 0.17257358 0.17074515\n",
            " 0.17815905 0.18091421 0.1719474  0.16804008 0.17019411 0.17342517\n",
            " 0.16310582 0.15927364 0.15992486 0.1612273  0.16758923 0.16420789\n",
            " 0.16736381 0.17049468 0.17695679 0.18071384 0.17921102 0.18274264\n",
            " 0.18502192 0.18036318 0.18003757 0.1761052  0.17282405 0.17187226\n",
            " 0.173585   0.17319533 0.17259808 0.17188293 0.17109977 0.17027541\n",
            " 0.16942471 0.16855703 0.16767919 0.16679688 0.16591479 0.16503698\n",
            " 0.1641665  0.16330564 0.16245565 0.16161714 0.16079013 0.1599741\n",
            " 0.15916827 0.15837182 0.15758352 0.15680259 0.15602812 0.15525937\n",
            " 0.15449578 0.15373699 0.15298273 0.15223294 0.15148766 0.15074706\n",
            " 0.15001144 0.14928104 0.14855626 0.14783743 0.14712498 0.1464192\n",
            " 0.14572047 0.14502901 0.14434509 0.14366888 0.14300056 0.14234017\n",
            " 0.14168777 0.14104341 0.14040697 0.13977848 0.13915785 0.13854496\n",
            " 0.13793969 0.13734192 0.1367515  0.13616832 0.13559231 0.13502327\n",
            " 0.13446112 0.13390578 0.13335711 0.13281503 0.13227946 0.13175033\n",
            " 0.13122755 0.13071108 0.13020083 0.12969682]\n",
            "3 day output [[0.12919883]]\n",
            "4 day input [0.20295554 0.20693801 0.20753914 0.19053225 0.17713212 0.17868503\n",
            " 0.18164058 0.17397621 0.16874139 0.17257358 0.17074515 0.17815905\n",
            " 0.18091421 0.1719474  0.16804008 0.17019411 0.17342517 0.16310582\n",
            " 0.15927364 0.15992486 0.1612273  0.16758923 0.16420789 0.16736381\n",
            " 0.17049468 0.17695679 0.18071384 0.17921102 0.18274264 0.18502192\n",
            " 0.18036318 0.18003757 0.1761052  0.17282405 0.17187226 0.173585\n",
            " 0.17319533 0.17259808 0.17188293 0.17109977 0.17027541 0.16942471\n",
            " 0.16855703 0.16767919 0.16679688 0.16591479 0.16503698 0.1641665\n",
            " 0.16330564 0.16245565 0.16161714 0.16079013 0.1599741  0.15916827\n",
            " 0.15837182 0.15758352 0.15680259 0.15602812 0.15525937 0.15449578\n",
            " 0.15373699 0.15298273 0.15223294 0.15148766 0.15074706 0.15001144\n",
            " 0.14928104 0.14855626 0.14783743 0.14712498 0.1464192  0.14572047\n",
            " 0.14502901 0.14434509 0.14366888 0.14300056 0.14234017 0.14168777\n",
            " 0.14104341 0.14040697 0.13977848 0.13915785 0.13854496 0.13793969\n",
            " 0.13734192 0.1367515  0.13616832 0.13559231 0.13502327 0.13446112\n",
            " 0.13390578 0.13335711 0.13281503 0.13227946 0.13175033 0.13122755\n",
            " 0.13071108 0.13020083 0.12969682 0.12919883]\n",
            "4 day output [[0.12870699]]\n",
            "5 day input [0.20693801 0.20753914 0.19053225 0.17713212 0.17868503 0.18164058\n",
            " 0.17397621 0.16874139 0.17257358 0.17074515 0.17815905 0.18091421\n",
            " 0.1719474  0.16804008 0.17019411 0.17342517 0.16310582 0.15927364\n",
            " 0.15992486 0.1612273  0.16758923 0.16420789 0.16736381 0.17049468\n",
            " 0.17695679 0.18071384 0.17921102 0.18274264 0.18502192 0.18036318\n",
            " 0.18003757 0.1761052  0.17282405 0.17187226 0.173585   0.17319533\n",
            " 0.17259808 0.17188293 0.17109977 0.17027541 0.16942471 0.16855703\n",
            " 0.16767919 0.16679688 0.16591479 0.16503698 0.1641665  0.16330564\n",
            " 0.16245565 0.16161714 0.16079013 0.1599741  0.15916827 0.15837182\n",
            " 0.15758352 0.15680259 0.15602812 0.15525937 0.15449578 0.15373699\n",
            " 0.15298273 0.15223294 0.15148766 0.15074706 0.15001144 0.14928104\n",
            " 0.14855626 0.14783743 0.14712498 0.1464192  0.14572047 0.14502901\n",
            " 0.14434509 0.14366888 0.14300056 0.14234017 0.14168777 0.14104341\n",
            " 0.14040697 0.13977848 0.13915785 0.13854496 0.13793969 0.13734192\n",
            " 0.1367515  0.13616832 0.13559231 0.13502327 0.13446112 0.13390578\n",
            " 0.13335711 0.13281503 0.13227946 0.13175033 0.13122755 0.13071108\n",
            " 0.13020083 0.12969682 0.12919883 0.12870699]\n",
            "5 day output [[0.12822112]]\n",
            "6 day input [0.20753914 0.19053225 0.17713212 0.17868503 0.18164058 0.17397621\n",
            " 0.16874139 0.17257358 0.17074515 0.17815905 0.18091421 0.1719474\n",
            " 0.16804008 0.17019411 0.17342517 0.16310582 0.15927364 0.15992486\n",
            " 0.1612273  0.16758923 0.16420789 0.16736381 0.17049468 0.17695679\n",
            " 0.18071384 0.17921102 0.18274264 0.18502192 0.18036318 0.18003757\n",
            " 0.1761052  0.17282405 0.17187226 0.173585   0.17319533 0.17259808\n",
            " 0.17188293 0.17109977 0.17027541 0.16942471 0.16855703 0.16767919\n",
            " 0.16679688 0.16591479 0.16503698 0.1641665  0.16330564 0.16245565\n",
            " 0.16161714 0.16079013 0.1599741  0.15916827 0.15837182 0.15758352\n",
            " 0.15680259 0.15602812 0.15525937 0.15449578 0.15373699 0.15298273\n",
            " 0.15223294 0.15148766 0.15074706 0.15001144 0.14928104 0.14855626\n",
            " 0.14783743 0.14712498 0.1464192  0.14572047 0.14502901 0.14434509\n",
            " 0.14366888 0.14300056 0.14234017 0.14168777 0.14104341 0.14040697\n",
            " 0.13977848 0.13915785 0.13854496 0.13793969 0.13734192 0.1367515\n",
            " 0.13616832 0.13559231 0.13502327 0.13446112 0.13390578 0.13335711\n",
            " 0.13281503 0.13227946 0.13175033 0.13122755 0.13071108 0.13020083\n",
            " 0.12969682 0.12919883 0.12870699 0.12822112]\n",
            "6 day output [[0.12774128]]\n",
            "7 day input [0.19053225 0.17713212 0.17868503 0.18164058 0.17397621 0.16874139\n",
            " 0.17257358 0.17074515 0.17815905 0.18091421 0.1719474  0.16804008\n",
            " 0.17019411 0.17342517 0.16310582 0.15927364 0.15992486 0.1612273\n",
            " 0.16758923 0.16420789 0.16736381 0.17049468 0.17695679 0.18071384\n",
            " 0.17921102 0.18274264 0.18502192 0.18036318 0.18003757 0.1761052\n",
            " 0.17282405 0.17187226 0.173585   0.17319533 0.17259808 0.17188293\n",
            " 0.17109977 0.17027541 0.16942471 0.16855703 0.16767919 0.16679688\n",
            " 0.16591479 0.16503698 0.1641665  0.16330564 0.16245565 0.16161714\n",
            " 0.16079013 0.1599741  0.15916827 0.15837182 0.15758352 0.15680259\n",
            " 0.15602812 0.15525937 0.15449578 0.15373699 0.15298273 0.15223294\n",
            " 0.15148766 0.15074706 0.15001144 0.14928104 0.14855626 0.14783743\n",
            " 0.14712498 0.1464192  0.14572047 0.14502901 0.14434509 0.14366888\n",
            " 0.14300056 0.14234017 0.14168777 0.14104341 0.14040697 0.13977848\n",
            " 0.13915785 0.13854496 0.13793969 0.13734192 0.1367515  0.13616832\n",
            " 0.13559231 0.13502327 0.13446112 0.13390578 0.13335711 0.13281503\n",
            " 0.13227946 0.13175033 0.13122755 0.13071108 0.13020083 0.12969682\n",
            " 0.12919883 0.12870699 0.12822112 0.12774128]\n",
            "7 day output [[0.12726733]]\n",
            "8 day input [0.17713212 0.17868503 0.18164058 0.17397621 0.16874139 0.17257358\n",
            " 0.17074515 0.17815905 0.18091421 0.1719474  0.16804008 0.17019411\n",
            " 0.17342517 0.16310582 0.15927364 0.15992486 0.1612273  0.16758923\n",
            " 0.16420789 0.16736381 0.17049468 0.17695679 0.18071384 0.17921102\n",
            " 0.18274264 0.18502192 0.18036318 0.18003757 0.1761052  0.17282405\n",
            " 0.17187226 0.173585   0.17319533 0.17259808 0.17188293 0.17109977\n",
            " 0.17027541 0.16942471 0.16855703 0.16767919 0.16679688 0.16591479\n",
            " 0.16503698 0.1641665  0.16330564 0.16245565 0.16161714 0.16079013\n",
            " 0.1599741  0.15916827 0.15837182 0.15758352 0.15680259 0.15602812\n",
            " 0.15525937 0.15449578 0.15373699 0.15298273 0.15223294 0.15148766\n",
            " 0.15074706 0.15001144 0.14928104 0.14855626 0.14783743 0.14712498\n",
            " 0.1464192  0.14572047 0.14502901 0.14434509 0.14366888 0.14300056\n",
            " 0.14234017 0.14168777 0.14104341 0.14040697 0.13977848 0.13915785\n",
            " 0.13854496 0.13793969 0.13734192 0.1367515  0.13616832 0.13559231\n",
            " 0.13502327 0.13446112 0.13390578 0.13335711 0.13281503 0.13227946\n",
            " 0.13175033 0.13122755 0.13071108 0.13020083 0.12969682 0.12919883\n",
            " 0.12870699 0.12822112 0.12774128 0.12726733]\n",
            "8 day output [[0.12679932]]\n",
            "9 day input [0.17868503 0.18164058 0.17397621 0.16874139 0.17257358 0.17074515\n",
            " 0.17815905 0.18091421 0.1719474  0.16804008 0.17019411 0.17342517\n",
            " 0.16310582 0.15927364 0.15992486 0.1612273  0.16758923 0.16420789\n",
            " 0.16736381 0.17049468 0.17695679 0.18071384 0.17921102 0.18274264\n",
            " 0.18502192 0.18036318 0.18003757 0.1761052  0.17282405 0.17187226\n",
            " 0.173585   0.17319533 0.17259808 0.17188293 0.17109977 0.17027541\n",
            " 0.16942471 0.16855703 0.16767919 0.16679688 0.16591479 0.16503698\n",
            " 0.1641665  0.16330564 0.16245565 0.16161714 0.16079013 0.1599741\n",
            " 0.15916827 0.15837182 0.15758352 0.15680259 0.15602812 0.15525937\n",
            " 0.15449578 0.15373699 0.15298273 0.15223294 0.15148766 0.15074706\n",
            " 0.15001144 0.14928104 0.14855626 0.14783743 0.14712498 0.1464192\n",
            " 0.14572047 0.14502901 0.14434509 0.14366888 0.14300056 0.14234017\n",
            " 0.14168777 0.14104341 0.14040697 0.13977848 0.13915785 0.13854496\n",
            " 0.13793969 0.13734192 0.1367515  0.13616832 0.13559231 0.13502327\n",
            " 0.13446112 0.13390578 0.13335711 0.13281503 0.13227946 0.13175033\n",
            " 0.13122755 0.13071108 0.13020083 0.12969682 0.12919883 0.12870699\n",
            " 0.12822112 0.12774128 0.12726733 0.12679932]\n",
            "9 day output [[0.1263371]]\n",
            "10 day input [0.18164058 0.17397621 0.16874139 0.17257358 0.17074515 0.17815905\n",
            " 0.18091421 0.1719474  0.16804008 0.17019411 0.17342517 0.16310582\n",
            " 0.15927364 0.15992486 0.1612273  0.16758923 0.16420789 0.16736381\n",
            " 0.17049468 0.17695679 0.18071384 0.17921102 0.18274264 0.18502192\n",
            " 0.18036318 0.18003757 0.1761052  0.17282405 0.17187226 0.173585\n",
            " 0.17319533 0.17259808 0.17188293 0.17109977 0.17027541 0.16942471\n",
            " 0.16855703 0.16767919 0.16679688 0.16591479 0.16503698 0.1641665\n",
            " 0.16330564 0.16245565 0.16161714 0.16079013 0.1599741  0.15916827\n",
            " 0.15837182 0.15758352 0.15680259 0.15602812 0.15525937 0.15449578\n",
            " 0.15373699 0.15298273 0.15223294 0.15148766 0.15074706 0.15001144\n",
            " 0.14928104 0.14855626 0.14783743 0.14712498 0.1464192  0.14572047\n",
            " 0.14502901 0.14434509 0.14366888 0.14300056 0.14234017 0.14168777\n",
            " 0.14104341 0.14040697 0.13977848 0.13915785 0.13854496 0.13793969\n",
            " 0.13734192 0.1367515  0.13616832 0.13559231 0.13502327 0.13446112\n",
            " 0.13390578 0.13335711 0.13281503 0.13227946 0.13175033 0.13122755\n",
            " 0.13071108 0.13020083 0.12969682 0.12919883 0.12870699 0.12822112\n",
            " 0.12774128 0.12726733 0.12679932 0.1263371 ]\n",
            "10 day output [[0.12588061]]\n",
            "11 day input [0.17397621 0.16874139 0.17257358 0.17074515 0.17815905 0.18091421\n",
            " 0.1719474  0.16804008 0.17019411 0.17342517 0.16310582 0.15927364\n",
            " 0.15992486 0.1612273  0.16758923 0.16420789 0.16736381 0.17049468\n",
            " 0.17695679 0.18071384 0.17921102 0.18274264 0.18502192 0.18036318\n",
            " 0.18003757 0.1761052  0.17282405 0.17187226 0.173585   0.17319533\n",
            " 0.17259808 0.17188293 0.17109977 0.17027541 0.16942471 0.16855703\n",
            " 0.16767919 0.16679688 0.16591479 0.16503698 0.1641665  0.16330564\n",
            " 0.16245565 0.16161714 0.16079013 0.1599741  0.15916827 0.15837182\n",
            " 0.15758352 0.15680259 0.15602812 0.15525937 0.15449578 0.15373699\n",
            " 0.15298273 0.15223294 0.15148766 0.15074706 0.15001144 0.14928104\n",
            " 0.14855626 0.14783743 0.14712498 0.1464192  0.14572047 0.14502901\n",
            " 0.14434509 0.14366888 0.14300056 0.14234017 0.14168777 0.14104341\n",
            " 0.14040697 0.13977848 0.13915785 0.13854496 0.13793969 0.13734192\n",
            " 0.1367515  0.13616832 0.13559231 0.13502327 0.13446112 0.13390578\n",
            " 0.13335711 0.13281503 0.13227946 0.13175033 0.13122755 0.13071108\n",
            " 0.13020083 0.12969682 0.12919883 0.12870699 0.12822112 0.12774128\n",
            " 0.12726733 0.12679932 0.1263371  0.12588061]\n",
            "11 day output [[0.12542991]]\n",
            "12 day input [0.16874139 0.17257358 0.17074515 0.17815905 0.18091421 0.1719474\n",
            " 0.16804008 0.17019411 0.17342517 0.16310582 0.15927364 0.15992486\n",
            " 0.1612273  0.16758923 0.16420789 0.16736381 0.17049468 0.17695679\n",
            " 0.18071384 0.17921102 0.18274264 0.18502192 0.18036318 0.18003757\n",
            " 0.1761052  0.17282405 0.17187226 0.173585   0.17319533 0.17259808\n",
            " 0.17188293 0.17109977 0.17027541 0.16942471 0.16855703 0.16767919\n",
            " 0.16679688 0.16591479 0.16503698 0.1641665  0.16330564 0.16245565\n",
            " 0.16161714 0.16079013 0.1599741  0.15916827 0.15837182 0.15758352\n",
            " 0.15680259 0.15602812 0.15525937 0.15449578 0.15373699 0.15298273\n",
            " 0.15223294 0.15148766 0.15074706 0.15001144 0.14928104 0.14855626\n",
            " 0.14783743 0.14712498 0.1464192  0.14572047 0.14502901 0.14434509\n",
            " 0.14366888 0.14300056 0.14234017 0.14168777 0.14104341 0.14040697\n",
            " 0.13977848 0.13915785 0.13854496 0.13793969 0.13734192 0.1367515\n",
            " 0.13616832 0.13559231 0.13502327 0.13446112 0.13390578 0.13335711\n",
            " 0.13281503 0.13227946 0.13175033 0.13122755 0.13071108 0.13020083\n",
            " 0.12969682 0.12919883 0.12870699 0.12822112 0.12774128 0.12726733\n",
            " 0.12679932 0.1263371  0.12588061 0.12542991]\n",
            "12 day output [[0.12498491]]\n",
            "13 day input [0.17257358 0.17074515 0.17815905 0.18091421 0.1719474  0.16804008\n",
            " 0.17019411 0.17342517 0.16310582 0.15927364 0.15992486 0.1612273\n",
            " 0.16758923 0.16420789 0.16736381 0.17049468 0.17695679 0.18071384\n",
            " 0.17921102 0.18274264 0.18502192 0.18036318 0.18003757 0.1761052\n",
            " 0.17282405 0.17187226 0.173585   0.17319533 0.17259808 0.17188293\n",
            " 0.17109977 0.17027541 0.16942471 0.16855703 0.16767919 0.16679688\n",
            " 0.16591479 0.16503698 0.1641665  0.16330564 0.16245565 0.16161714\n",
            " 0.16079013 0.1599741  0.15916827 0.15837182 0.15758352 0.15680259\n",
            " 0.15602812 0.15525937 0.15449578 0.15373699 0.15298273 0.15223294\n",
            " 0.15148766 0.15074706 0.15001144 0.14928104 0.14855626 0.14783743\n",
            " 0.14712498 0.1464192  0.14572047 0.14502901 0.14434509 0.14366888\n",
            " 0.14300056 0.14234017 0.14168777 0.14104341 0.14040697 0.13977848\n",
            " 0.13915785 0.13854496 0.13793969 0.13734192 0.1367515  0.13616832\n",
            " 0.13559231 0.13502327 0.13446112 0.13390578 0.13335711 0.13281503\n",
            " 0.13227946 0.13175033 0.13122755 0.13071108 0.13020083 0.12969682\n",
            " 0.12919883 0.12870699 0.12822112 0.12774128 0.12726733 0.12679932\n",
            " 0.1263371  0.12588061 0.12542991 0.12498491]\n",
            "13 day output [[0.12454548]]\n",
            "14 day input [0.17074515 0.17815905 0.18091421 0.1719474  0.16804008 0.17019411\n",
            " 0.17342517 0.16310582 0.15927364 0.15992486 0.1612273  0.16758923\n",
            " 0.16420789 0.16736381 0.17049468 0.17695679 0.18071384 0.17921102\n",
            " 0.18274264 0.18502192 0.18036318 0.18003757 0.1761052  0.17282405\n",
            " 0.17187226 0.173585   0.17319533 0.17259808 0.17188293 0.17109977\n",
            " 0.17027541 0.16942471 0.16855703 0.16767919 0.16679688 0.16591479\n",
            " 0.16503698 0.1641665  0.16330564 0.16245565 0.16161714 0.16079013\n",
            " 0.1599741  0.15916827 0.15837182 0.15758352 0.15680259 0.15602812\n",
            " 0.15525937 0.15449578 0.15373699 0.15298273 0.15223294 0.15148766\n",
            " 0.15074706 0.15001144 0.14928104 0.14855626 0.14783743 0.14712498\n",
            " 0.1464192  0.14572047 0.14502901 0.14434509 0.14366888 0.14300056\n",
            " 0.14234017 0.14168777 0.14104341 0.14040697 0.13977848 0.13915785\n",
            " 0.13854496 0.13793969 0.13734192 0.1367515  0.13616832 0.13559231\n",
            " 0.13502327 0.13446112 0.13390578 0.13335711 0.13281503 0.13227946\n",
            " 0.13175033 0.13122755 0.13071108 0.13020083 0.12969682 0.12919883\n",
            " 0.12870699 0.12822112 0.12774128 0.12726733 0.12679932 0.1263371\n",
            " 0.12588061 0.12542991 0.12498491 0.12454548]\n",
            "14 day output [[0.12411162]]\n",
            "15 day input [0.17815905 0.18091421 0.1719474  0.16804008 0.17019411 0.17342517\n",
            " 0.16310582 0.15927364 0.15992486 0.1612273  0.16758923 0.16420789\n",
            " 0.16736381 0.17049468 0.17695679 0.18071384 0.17921102 0.18274264\n",
            " 0.18502192 0.18036318 0.18003757 0.1761052  0.17282405 0.17187226\n",
            " 0.173585   0.17319533 0.17259808 0.17188293 0.17109977 0.17027541\n",
            " 0.16942471 0.16855703 0.16767919 0.16679688 0.16591479 0.16503698\n",
            " 0.1641665  0.16330564 0.16245565 0.16161714 0.16079013 0.1599741\n",
            " 0.15916827 0.15837182 0.15758352 0.15680259 0.15602812 0.15525937\n",
            " 0.15449578 0.15373699 0.15298273 0.15223294 0.15148766 0.15074706\n",
            " 0.15001144 0.14928104 0.14855626 0.14783743 0.14712498 0.1464192\n",
            " 0.14572047 0.14502901 0.14434509 0.14366888 0.14300056 0.14234017\n",
            " 0.14168777 0.14104341 0.14040697 0.13977848 0.13915785 0.13854496\n",
            " 0.13793969 0.13734192 0.1367515  0.13616832 0.13559231 0.13502327\n",
            " 0.13446112 0.13390578 0.13335711 0.13281503 0.13227946 0.13175033\n",
            " 0.13122755 0.13071108 0.13020083 0.12969682 0.12919883 0.12870699\n",
            " 0.12822112 0.12774128 0.12726733 0.12679932 0.1263371  0.12588061\n",
            " 0.12542991 0.12498491 0.12454548 0.12411162]\n",
            "15 day output [[0.12368328]]\n",
            "16 day input [0.18091421 0.1719474  0.16804008 0.17019411 0.17342517 0.16310582\n",
            " 0.15927364 0.15992486 0.1612273  0.16758923 0.16420789 0.16736381\n",
            " 0.17049468 0.17695679 0.18071384 0.17921102 0.18274264 0.18502192\n",
            " 0.18036318 0.18003757 0.1761052  0.17282405 0.17187226 0.173585\n",
            " 0.17319533 0.17259808 0.17188293 0.17109977 0.17027541 0.16942471\n",
            " 0.16855703 0.16767919 0.16679688 0.16591479 0.16503698 0.1641665\n",
            " 0.16330564 0.16245565 0.16161714 0.16079013 0.1599741  0.15916827\n",
            " 0.15837182 0.15758352 0.15680259 0.15602812 0.15525937 0.15449578\n",
            " 0.15373699 0.15298273 0.15223294 0.15148766 0.15074706 0.15001144\n",
            " 0.14928104 0.14855626 0.14783743 0.14712498 0.1464192  0.14572047\n",
            " 0.14502901 0.14434509 0.14366888 0.14300056 0.14234017 0.14168777\n",
            " 0.14104341 0.14040697 0.13977848 0.13915785 0.13854496 0.13793969\n",
            " 0.13734192 0.1367515  0.13616832 0.13559231 0.13502327 0.13446112\n",
            " 0.13390578 0.13335711 0.13281503 0.13227946 0.13175033 0.13122755\n",
            " 0.13071108 0.13020083 0.12969682 0.12919883 0.12870699 0.12822112\n",
            " 0.12774128 0.12726733 0.12679932 0.1263371  0.12588061 0.12542991\n",
            " 0.12498491 0.12454548 0.12411162 0.12368328]\n",
            "16 day output [[0.12326038]]\n",
            "17 day input [0.1719474  0.16804008 0.17019411 0.17342517 0.16310582 0.15927364\n",
            " 0.15992486 0.1612273  0.16758923 0.16420789 0.16736381 0.17049468\n",
            " 0.17695679 0.18071384 0.17921102 0.18274264 0.18502192 0.18036318\n",
            " 0.18003757 0.1761052  0.17282405 0.17187226 0.173585   0.17319533\n",
            " 0.17259808 0.17188293 0.17109977 0.17027541 0.16942471 0.16855703\n",
            " 0.16767919 0.16679688 0.16591479 0.16503698 0.1641665  0.16330564\n",
            " 0.16245565 0.16161714 0.16079013 0.1599741  0.15916827 0.15837182\n",
            " 0.15758352 0.15680259 0.15602812 0.15525937 0.15449578 0.15373699\n",
            " 0.15298273 0.15223294 0.15148766 0.15074706 0.15001144 0.14928104\n",
            " 0.14855626 0.14783743 0.14712498 0.1464192  0.14572047 0.14502901\n",
            " 0.14434509 0.14366888 0.14300056 0.14234017 0.14168777 0.14104341\n",
            " 0.14040697 0.13977848 0.13915785 0.13854496 0.13793969 0.13734192\n",
            " 0.1367515  0.13616832 0.13559231 0.13502327 0.13446112 0.13390578\n",
            " 0.13335711 0.13281503 0.13227946 0.13175033 0.13122755 0.13071108\n",
            " 0.13020083 0.12969682 0.12919883 0.12870699 0.12822112 0.12774128\n",
            " 0.12726733 0.12679932 0.1263371  0.12588061 0.12542991 0.12498491\n",
            " 0.12454548 0.12411162 0.12368328 0.12326038]\n",
            "17 day output [[0.12284284]]\n",
            "18 day input [0.16804008 0.17019411 0.17342517 0.16310582 0.15927364 0.15992486\n",
            " 0.1612273  0.16758923 0.16420789 0.16736381 0.17049468 0.17695679\n",
            " 0.18071384 0.17921102 0.18274264 0.18502192 0.18036318 0.18003757\n",
            " 0.1761052  0.17282405 0.17187226 0.173585   0.17319533 0.17259808\n",
            " 0.17188293 0.17109977 0.17027541 0.16942471 0.16855703 0.16767919\n",
            " 0.16679688 0.16591479 0.16503698 0.1641665  0.16330564 0.16245565\n",
            " 0.16161714 0.16079013 0.1599741  0.15916827 0.15837182 0.15758352\n",
            " 0.15680259 0.15602812 0.15525937 0.15449578 0.15373699 0.15298273\n",
            " 0.15223294 0.15148766 0.15074706 0.15001144 0.14928104 0.14855626\n",
            " 0.14783743 0.14712498 0.1464192  0.14572047 0.14502901 0.14434509\n",
            " 0.14366888 0.14300056 0.14234017 0.14168777 0.14104341 0.14040697\n",
            " 0.13977848 0.13915785 0.13854496 0.13793969 0.13734192 0.1367515\n",
            " 0.13616832 0.13559231 0.13502327 0.13446112 0.13390578 0.13335711\n",
            " 0.13281503 0.13227946 0.13175033 0.13122755 0.13071108 0.13020083\n",
            " 0.12969682 0.12919883 0.12870699 0.12822112 0.12774128 0.12726733\n",
            " 0.12679932 0.1263371  0.12588061 0.12542991 0.12498491 0.12454548\n",
            " 0.12411162 0.12368328 0.12326038 0.12284284]\n",
            "18 day output [[0.12243067]]\n",
            "19 day input [0.17019411 0.17342517 0.16310582 0.15927364 0.15992486 0.1612273\n",
            " 0.16758923 0.16420789 0.16736381 0.17049468 0.17695679 0.18071384\n",
            " 0.17921102 0.18274264 0.18502192 0.18036318 0.18003757 0.1761052\n",
            " 0.17282405 0.17187226 0.173585   0.17319533 0.17259808 0.17188293\n",
            " 0.17109977 0.17027541 0.16942471 0.16855703 0.16767919 0.16679688\n",
            " 0.16591479 0.16503698 0.1641665  0.16330564 0.16245565 0.16161714\n",
            " 0.16079013 0.1599741  0.15916827 0.15837182 0.15758352 0.15680259\n",
            " 0.15602812 0.15525937 0.15449578 0.15373699 0.15298273 0.15223294\n",
            " 0.15148766 0.15074706 0.15001144 0.14928104 0.14855626 0.14783743\n",
            " 0.14712498 0.1464192  0.14572047 0.14502901 0.14434509 0.14366888\n",
            " 0.14300056 0.14234017 0.14168777 0.14104341 0.14040697 0.13977848\n",
            " 0.13915785 0.13854496 0.13793969 0.13734192 0.1367515  0.13616832\n",
            " 0.13559231 0.13502327 0.13446112 0.13390578 0.13335711 0.13281503\n",
            " 0.13227946 0.13175033 0.13122755 0.13071108 0.13020083 0.12969682\n",
            " 0.12919883 0.12870699 0.12822112 0.12774128 0.12726733 0.12679932\n",
            " 0.1263371  0.12588061 0.12542991 0.12498491 0.12454548 0.12411162\n",
            " 0.12368328 0.12326038 0.12284284 0.12243067]\n",
            "19 day output [[0.12202379]]\n",
            "20 day input [0.17342517 0.16310582 0.15927364 0.15992486 0.1612273  0.16758923\n",
            " 0.16420789 0.16736381 0.17049468 0.17695679 0.18071384 0.17921102\n",
            " 0.18274264 0.18502192 0.18036318 0.18003757 0.1761052  0.17282405\n",
            " 0.17187226 0.173585   0.17319533 0.17259808 0.17188293 0.17109977\n",
            " 0.17027541 0.16942471 0.16855703 0.16767919 0.16679688 0.16591479\n",
            " 0.16503698 0.1641665  0.16330564 0.16245565 0.16161714 0.16079013\n",
            " 0.1599741  0.15916827 0.15837182 0.15758352 0.15680259 0.15602812\n",
            " 0.15525937 0.15449578 0.15373699 0.15298273 0.15223294 0.15148766\n",
            " 0.15074706 0.15001144 0.14928104 0.14855626 0.14783743 0.14712498\n",
            " 0.1464192  0.14572047 0.14502901 0.14434509 0.14366888 0.14300056\n",
            " 0.14234017 0.14168777 0.14104341 0.14040697 0.13977848 0.13915785\n",
            " 0.13854496 0.13793969 0.13734192 0.1367515  0.13616832 0.13559231\n",
            " 0.13502327 0.13446112 0.13390578 0.13335711 0.13281503 0.13227946\n",
            " 0.13175033 0.13122755 0.13071108 0.13020083 0.12969682 0.12919883\n",
            " 0.12870699 0.12822112 0.12774128 0.12726733 0.12679932 0.1263371\n",
            " 0.12588061 0.12542991 0.12498491 0.12454548 0.12411162 0.12368328\n",
            " 0.12326038 0.12284284 0.12243067 0.12202379]\n",
            "20 day output [[0.12162214]]\n",
            "21 day input [0.16310582 0.15927364 0.15992486 0.1612273  0.16758923 0.16420789\n",
            " 0.16736381 0.17049468 0.17695679 0.18071384 0.17921102 0.18274264\n",
            " 0.18502192 0.18036318 0.18003757 0.1761052  0.17282405 0.17187226\n",
            " 0.173585   0.17319533 0.17259808 0.17188293 0.17109977 0.17027541\n",
            " 0.16942471 0.16855703 0.16767919 0.16679688 0.16591479 0.16503698\n",
            " 0.1641665  0.16330564 0.16245565 0.16161714 0.16079013 0.1599741\n",
            " 0.15916827 0.15837182 0.15758352 0.15680259 0.15602812 0.15525937\n",
            " 0.15449578 0.15373699 0.15298273 0.15223294 0.15148766 0.15074706\n",
            " 0.15001144 0.14928104 0.14855626 0.14783743 0.14712498 0.1464192\n",
            " 0.14572047 0.14502901 0.14434509 0.14366888 0.14300056 0.14234017\n",
            " 0.14168777 0.14104341 0.14040697 0.13977848 0.13915785 0.13854496\n",
            " 0.13793969 0.13734192 0.1367515  0.13616832 0.13559231 0.13502327\n",
            " 0.13446112 0.13390578 0.13335711 0.13281503 0.13227946 0.13175033\n",
            " 0.13122755 0.13071108 0.13020083 0.12969682 0.12919883 0.12870699\n",
            " 0.12822112 0.12774128 0.12726733 0.12679932 0.1263371  0.12588061\n",
            " 0.12542991 0.12498491 0.12454548 0.12411162 0.12368328 0.12326038\n",
            " 0.12284284 0.12243067 0.12202379 0.12162214]\n",
            "21 day output [[0.12122563]]\n",
            "22 day input [0.15927364 0.15992486 0.1612273  0.16758923 0.16420789 0.16736381\n",
            " 0.17049468 0.17695679 0.18071384 0.17921102 0.18274264 0.18502192\n",
            " 0.18036318 0.18003757 0.1761052  0.17282405 0.17187226 0.173585\n",
            " 0.17319533 0.17259808 0.17188293 0.17109977 0.17027541 0.16942471\n",
            " 0.16855703 0.16767919 0.16679688 0.16591479 0.16503698 0.1641665\n",
            " 0.16330564 0.16245565 0.16161714 0.16079013 0.1599741  0.15916827\n",
            " 0.15837182 0.15758352 0.15680259 0.15602812 0.15525937 0.15449578\n",
            " 0.15373699 0.15298273 0.15223294 0.15148766 0.15074706 0.15001144\n",
            " 0.14928104 0.14855626 0.14783743 0.14712498 0.1464192  0.14572047\n",
            " 0.14502901 0.14434509 0.14366888 0.14300056 0.14234017 0.14168777\n",
            " 0.14104341 0.14040697 0.13977848 0.13915785 0.13854496 0.13793969\n",
            " 0.13734192 0.1367515  0.13616832 0.13559231 0.13502327 0.13446112\n",
            " 0.13390578 0.13335711 0.13281503 0.13227946 0.13175033 0.13122755\n",
            " 0.13071108 0.13020083 0.12969682 0.12919883 0.12870699 0.12822112\n",
            " 0.12774128 0.12726733 0.12679932 0.1263371  0.12588061 0.12542991\n",
            " 0.12498491 0.12454548 0.12411162 0.12368328 0.12326038 0.12284284\n",
            " 0.12243067 0.12202379 0.12162214 0.12122563]\n",
            "22 day output [[0.12083423]]\n",
            "23 day input [0.15992486 0.1612273  0.16758923 0.16420789 0.16736381 0.17049468\n",
            " 0.17695679 0.18071384 0.17921102 0.18274264 0.18502192 0.18036318\n",
            " 0.18003757 0.1761052  0.17282405 0.17187226 0.173585   0.17319533\n",
            " 0.17259808 0.17188293 0.17109977 0.17027541 0.16942471 0.16855703\n",
            " 0.16767919 0.16679688 0.16591479 0.16503698 0.1641665  0.16330564\n",
            " 0.16245565 0.16161714 0.16079013 0.1599741  0.15916827 0.15837182\n",
            " 0.15758352 0.15680259 0.15602812 0.15525937 0.15449578 0.15373699\n",
            " 0.15298273 0.15223294 0.15148766 0.15074706 0.15001144 0.14928104\n",
            " 0.14855626 0.14783743 0.14712498 0.1464192  0.14572047 0.14502901\n",
            " 0.14434509 0.14366888 0.14300056 0.14234017 0.14168777 0.14104341\n",
            " 0.14040697 0.13977848 0.13915785 0.13854496 0.13793969 0.13734192\n",
            " 0.1367515  0.13616832 0.13559231 0.13502327 0.13446112 0.13390578\n",
            " 0.13335711 0.13281503 0.13227946 0.13175033 0.13122755 0.13071108\n",
            " 0.13020083 0.12969682 0.12919883 0.12870699 0.12822112 0.12774128\n",
            " 0.12726733 0.12679932 0.1263371  0.12588061 0.12542991 0.12498491\n",
            " 0.12454548 0.12411162 0.12368328 0.12326038 0.12284284 0.12243067\n",
            " 0.12202379 0.12162214 0.12122563 0.12083423]\n",
            "23 day output [[0.1204479]]\n",
            "24 day input [0.1612273  0.16758923 0.16420789 0.16736381 0.17049468 0.17695679\n",
            " 0.18071384 0.17921102 0.18274264 0.18502192 0.18036318 0.18003757\n",
            " 0.1761052  0.17282405 0.17187226 0.173585   0.17319533 0.17259808\n",
            " 0.17188293 0.17109977 0.17027541 0.16942471 0.16855703 0.16767919\n",
            " 0.16679688 0.16591479 0.16503698 0.1641665  0.16330564 0.16245565\n",
            " 0.16161714 0.16079013 0.1599741  0.15916827 0.15837182 0.15758352\n",
            " 0.15680259 0.15602812 0.15525937 0.15449578 0.15373699 0.15298273\n",
            " 0.15223294 0.15148766 0.15074706 0.15001144 0.14928104 0.14855626\n",
            " 0.14783743 0.14712498 0.1464192  0.14572047 0.14502901 0.14434509\n",
            " 0.14366888 0.14300056 0.14234017 0.14168777 0.14104341 0.14040697\n",
            " 0.13977848 0.13915785 0.13854496 0.13793969 0.13734192 0.1367515\n",
            " 0.13616832 0.13559231 0.13502327 0.13446112 0.13390578 0.13335711\n",
            " 0.13281503 0.13227946 0.13175033 0.13122755 0.13071108 0.13020083\n",
            " 0.12969682 0.12919883 0.12870699 0.12822112 0.12774128 0.12726733\n",
            " 0.12679932 0.1263371  0.12588061 0.12542991 0.12498491 0.12454548\n",
            " 0.12411162 0.12368328 0.12326038 0.12284284 0.12243067 0.12202379\n",
            " 0.12162214 0.12122563 0.12083423 0.1204479 ]\n",
            "24 day output [[0.12006652]]\n",
            "25 day input [0.16758923 0.16420789 0.16736381 0.17049468 0.17695679 0.18071384\n",
            " 0.17921102 0.18274264 0.18502192 0.18036318 0.18003757 0.1761052\n",
            " 0.17282405 0.17187226 0.173585   0.17319533 0.17259808 0.17188293\n",
            " 0.17109977 0.17027541 0.16942471 0.16855703 0.16767919 0.16679688\n",
            " 0.16591479 0.16503698 0.1641665  0.16330564 0.16245565 0.16161714\n",
            " 0.16079013 0.1599741  0.15916827 0.15837182 0.15758352 0.15680259\n",
            " 0.15602812 0.15525937 0.15449578 0.15373699 0.15298273 0.15223294\n",
            " 0.15148766 0.15074706 0.15001144 0.14928104 0.14855626 0.14783743\n",
            " 0.14712498 0.1464192  0.14572047 0.14502901 0.14434509 0.14366888\n",
            " 0.14300056 0.14234017 0.14168777 0.14104341 0.14040697 0.13977848\n",
            " 0.13915785 0.13854496 0.13793969 0.13734192 0.1367515  0.13616832\n",
            " 0.13559231 0.13502327 0.13446112 0.13390578 0.13335711 0.13281503\n",
            " 0.13227946 0.13175033 0.13122755 0.13071108 0.13020083 0.12969682\n",
            " 0.12919883 0.12870699 0.12822112 0.12774128 0.12726733 0.12679932\n",
            " 0.1263371  0.12588061 0.12542991 0.12498491 0.12454548 0.12411162\n",
            " 0.12368328 0.12326038 0.12284284 0.12243067 0.12202379 0.12162214\n",
            " 0.12122563 0.12083423 0.1204479  0.12006652]\n",
            "25 day output [[0.11969011]]\n",
            "26 day input [0.16420789 0.16736381 0.17049468 0.17695679 0.18071384 0.17921102\n",
            " 0.18274264 0.18502192 0.18036318 0.18003757 0.1761052  0.17282405\n",
            " 0.17187226 0.173585   0.17319533 0.17259808 0.17188293 0.17109977\n",
            " 0.17027541 0.16942471 0.16855703 0.16767919 0.16679688 0.16591479\n",
            " 0.16503698 0.1641665  0.16330564 0.16245565 0.16161714 0.16079013\n",
            " 0.1599741  0.15916827 0.15837182 0.15758352 0.15680259 0.15602812\n",
            " 0.15525937 0.15449578 0.15373699 0.15298273 0.15223294 0.15148766\n",
            " 0.15074706 0.15001144 0.14928104 0.14855626 0.14783743 0.14712498\n",
            " 0.1464192  0.14572047 0.14502901 0.14434509 0.14366888 0.14300056\n",
            " 0.14234017 0.14168777 0.14104341 0.14040697 0.13977848 0.13915785\n",
            " 0.13854496 0.13793969 0.13734192 0.1367515  0.13616832 0.13559231\n",
            " 0.13502327 0.13446112 0.13390578 0.13335711 0.13281503 0.13227946\n",
            " 0.13175033 0.13122755 0.13071108 0.13020083 0.12969682 0.12919883\n",
            " 0.12870699 0.12822112 0.12774128 0.12726733 0.12679932 0.1263371\n",
            " 0.12588061 0.12542991 0.12498491 0.12454548 0.12411162 0.12368328\n",
            " 0.12326038 0.12284284 0.12243067 0.12202379 0.12162214 0.12122563\n",
            " 0.12083423 0.1204479  0.12006652 0.11969011]\n",
            "26 day output [[0.11931856]]\n",
            "27 day input [0.16736381 0.17049468 0.17695679 0.18071384 0.17921102 0.18274264\n",
            " 0.18502192 0.18036318 0.18003757 0.1761052  0.17282405 0.17187226\n",
            " 0.173585   0.17319533 0.17259808 0.17188293 0.17109977 0.17027541\n",
            " 0.16942471 0.16855703 0.16767919 0.16679688 0.16591479 0.16503698\n",
            " 0.1641665  0.16330564 0.16245565 0.16161714 0.16079013 0.1599741\n",
            " 0.15916827 0.15837182 0.15758352 0.15680259 0.15602812 0.15525937\n",
            " 0.15449578 0.15373699 0.15298273 0.15223294 0.15148766 0.15074706\n",
            " 0.15001144 0.14928104 0.14855626 0.14783743 0.14712498 0.1464192\n",
            " 0.14572047 0.14502901 0.14434509 0.14366888 0.14300056 0.14234017\n",
            " 0.14168777 0.14104341 0.14040697 0.13977848 0.13915785 0.13854496\n",
            " 0.13793969 0.13734192 0.1367515  0.13616832 0.13559231 0.13502327\n",
            " 0.13446112 0.13390578 0.13335711 0.13281503 0.13227946 0.13175033\n",
            " 0.13122755 0.13071108 0.13020083 0.12969682 0.12919883 0.12870699\n",
            " 0.12822112 0.12774128 0.12726733 0.12679932 0.1263371  0.12588061\n",
            " 0.12542991 0.12498491 0.12454548 0.12411162 0.12368328 0.12326038\n",
            " 0.12284284 0.12243067 0.12202379 0.12162214 0.12122563 0.12083423\n",
            " 0.1204479  0.12006652 0.11969011 0.11931856]\n",
            "27 day output [[0.11895182]]\n",
            "28 day input [0.17049468 0.17695679 0.18071384 0.17921102 0.18274264 0.18502192\n",
            " 0.18036318 0.18003757 0.1761052  0.17282405 0.17187226 0.173585\n",
            " 0.17319533 0.17259808 0.17188293 0.17109977 0.17027541 0.16942471\n",
            " 0.16855703 0.16767919 0.16679688 0.16591479 0.16503698 0.1641665\n",
            " 0.16330564 0.16245565 0.16161714 0.16079013 0.1599741  0.15916827\n",
            " 0.15837182 0.15758352 0.15680259 0.15602812 0.15525937 0.15449578\n",
            " 0.15373699 0.15298273 0.15223294 0.15148766 0.15074706 0.15001144\n",
            " 0.14928104 0.14855626 0.14783743 0.14712498 0.1464192  0.14572047\n",
            " 0.14502901 0.14434509 0.14366888 0.14300056 0.14234017 0.14168777\n",
            " 0.14104341 0.14040697 0.13977848 0.13915785 0.13854496 0.13793969\n",
            " 0.13734192 0.1367515  0.13616832 0.13559231 0.13502327 0.13446112\n",
            " 0.13390578 0.13335711 0.13281503 0.13227946 0.13175033 0.13122755\n",
            " 0.13071108 0.13020083 0.12969682 0.12919883 0.12870699 0.12822112\n",
            " 0.12774128 0.12726733 0.12679932 0.1263371  0.12588061 0.12542991\n",
            " 0.12498491 0.12454548 0.12411162 0.12368328 0.12326038 0.12284284\n",
            " 0.12243067 0.12202379 0.12162214 0.12122563 0.12083423 0.1204479\n",
            " 0.12006652 0.11969011 0.11931856 0.11895182]\n",
            "28 day output [[0.11858986]]\n",
            "29 day input [0.17695679 0.18071384 0.17921102 0.18274264 0.18502192 0.18036318\n",
            " 0.18003757 0.1761052  0.17282405 0.17187226 0.173585   0.17319533\n",
            " 0.17259808 0.17188293 0.17109977 0.17027541 0.16942471 0.16855703\n",
            " 0.16767919 0.16679688 0.16591479 0.16503698 0.1641665  0.16330564\n",
            " 0.16245565 0.16161714 0.16079013 0.1599741  0.15916827 0.15837182\n",
            " 0.15758352 0.15680259 0.15602812 0.15525937 0.15449578 0.15373699\n",
            " 0.15298273 0.15223294 0.15148766 0.15074706 0.15001144 0.14928104\n",
            " 0.14855626 0.14783743 0.14712498 0.1464192  0.14572047 0.14502901\n",
            " 0.14434509 0.14366888 0.14300056 0.14234017 0.14168777 0.14104341\n",
            " 0.14040697 0.13977848 0.13915785 0.13854496 0.13793969 0.13734192\n",
            " 0.1367515  0.13616832 0.13559231 0.13502327 0.13446112 0.13390578\n",
            " 0.13335711 0.13281503 0.13227946 0.13175033 0.13122755 0.13071108\n",
            " 0.13020083 0.12969682 0.12919883 0.12870699 0.12822112 0.12774128\n",
            " 0.12726733 0.12679932 0.1263371  0.12588061 0.12542991 0.12498491\n",
            " 0.12454548 0.12411162 0.12368328 0.12326038 0.12284284 0.12243067\n",
            " 0.12202379 0.12162214 0.12122563 0.12083423 0.1204479  0.12006652\n",
            " 0.11969011 0.11931856 0.11895182 0.11858986]\n",
            "29 day output [[0.11823265]]\n",
            "[[0.13071107864379883], [0.1302008330821991], [0.1296968162059784], [0.1291988343000412], [0.12870699167251587], [0.12822112441062927], [0.127741277217865], [0.12726733088493347], [0.1267993152141571], [0.12633709609508514], [0.12588061392307281], [0.1254299134016037], [0.12498490512371063], [0.12454548478126526], [0.12411162257194519], [0.12368328124284744], [0.12326037883758545], [0.12284284085035324], [0.12243067473173141], [0.12202379107475281], [0.12162213772535324], [0.12122562527656555], [0.12083423137664795], [0.12044789642095566], [0.12006652355194092], [0.11969010531902313], [0.11931855976581573], [0.11895181983709335], [0.1185898631811142], [0.11823264509439468]]\n"
          ]
        }
      ]
    },
    {
      "cell_type": "code",
      "source": [
        "day_new = np.arange(1,101)\n",
        "day_pred = np.arange(101,131)"
      ],
      "metadata": {
        "id": "JXrf4wJnVZOH"
      },
      "execution_count": null,
      "outputs": []
    },
    {
      "cell_type": "code",
      "source": [
        "len(df1)"
      ],
      "metadata": {
        "colab": {
          "base_uri": "https://localhost:8080/"
        },
        "id": "5DdxeMArWwxl",
        "outputId": "7f3defd0-3088-4068-d42c-3149cf79027b"
      },
      "execution_count": null,
      "outputs": [
        {
          "output_type": "execute_result",
          "data": {
            "text/plain": [
              "1257"
            ]
          },
          "metadata": {},
          "execution_count": 43
        }
      ]
    },
    {
      "cell_type": "code",
      "source": [
        "df3 = df1.tolist()\n",
        "df3.extend(lst_output)"
      ],
      "metadata": {
        "id": "SL2rI4WUW3_R"
      },
      "execution_count": null,
      "outputs": []
    },
    {
      "cell_type": "code",
      "source": [
        "plt.plot(day_new,scaler.inverse_transform(df1[1157:]))\n",
        "plt.plot(day_pred,scaler.inverse_transform(lst_output))"
      ],
      "metadata": {
        "colab": {
          "base_uri": "https://localhost:8080/",
          "height": 447
        },
        "id": "EGeEcdNbXDn9",
        "outputId": "e3fb971b-682b-46be-cc19-ae7bea19071f"
      },
      "execution_count": null,
      "outputs": [
        {
          "output_type": "execute_result",
          "data": {
            "text/plain": [
              "[<matplotlib.lines.Line2D at 0x7881a9cc7ac0>]"
            ]
          },
          "metadata": {},
          "execution_count": 45
        },
        {
          "output_type": "display_data",
          "data": {
            "text/plain": [
              "<Figure size 640x480 with 1 Axes>"
            ],
            "image/png": "[encoded data removed]"
          },
          "metadata": {}
        }
      ]
    },
    {
      "cell_type": "code",
      "source": [
        "df3 = df1.tolist()\n",
        "df3.extend(lst_output)\n",
        "plt.plot(df3[1000:])"
      ],
      "metadata": {
        "colab": {
          "base_uri": "https://localhost:8080/",
          "height": 447
        },
        "id": "CPN28aOFXkF-",
        "outputId": "598ff695-0bc6-46fc-d60c-c90c90a538f3"
      },
      "execution_count": null,
      "outputs": [
        {
          "output_type": "execute_result",
          "data": {
            "text/plain": [
              "[<matplotlib.lines.Line2D at 0x7881987c2260>]"
            ]
          },
          "metadata": {},
          "execution_count": 46
        },
        {
          "output_type": "display_data",
          "data": {
            "text/plain": [
              "<Figure size 640x480 with 1 Axes>"
            ],
            "image/png": "[encoded data removed]"
          },
          "metadata": {}
        }
      ]
    },
    {
      "cell_type": "code",
      "source": [],
      "metadata": {
        "id": "56TQ3_34YLNL"
      },
      "execution_count": null,
      "outputs": []
    }
  ]
}